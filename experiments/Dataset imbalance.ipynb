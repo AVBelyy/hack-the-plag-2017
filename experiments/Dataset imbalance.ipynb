{
 "cells": [
  {
   "cell_type": "code",
   "execution_count": 2,
   "metadata": {},
   "outputs": [],
   "source": [
    "%matplotlib inline\n",
    "import os\n",
    "import csv\n",
    "import pickle\n",
    "import pymystem3\n",
    "import itertools\n",
    "import collections\n",
    "import numpy as np\n",
    "import pandas as pd\n",
    "import matplotlib.pyplot as plt"
   ]
  },
  {
   "cell_type": "code",
   "execution_count": 3,
   "metadata": {},
   "outputs": [],
   "source": [
    "from lxml import etree\n",
    "from tqdm import tqdm, tqdm_notebook"
   ]
  },
  {
   "cell_type": "code",
   "execution_count": 236,
   "metadata": {},
   "outputs": [],
   "source": [
    "# ParaPlag\n",
    "data_dir = \"../data/text_alignment\"\n",
    "tasks_dir = data_dir + \"/tasks/manually_paraphrased2\""
   ]
  },
  {
   "cell_type": "code",
   "execution_count": 19,
   "metadata": {},
   "outputs": [],
   "source": [
    "# PAN\n",
    "data_dir = \"../data/pan13-text-alignment-training-corpus-2013-01-21\"\n",
    "tasks_dir = data_dir + \"/tasks/03-random-obfuscation/\""
   ]
  },
  {
   "cell_type": "code",
   "execution_count": 212,
   "metadata": {},
   "outputs": [],
   "source": [
    "# Persian\n",
    "data_dir = \"/Users/anton/Downloads/PersianPlagdet2016-text-alignment-train-corpus\"\n",
    "tasks_dir = data_dir + \"/04-simulated-obfuscation/\""
   ]
  },
  {
   "cell_type": "code",
   "execution_count": 259,
   "metadata": {},
   "outputs": [],
   "source": [
    "# Arabic\n",
    "data_dir = \"/Users/anton/Downloads/ExAraPlagDet-10-08-2015/plagiarism-annotation\"\n",
    "tasks_dir = data_dir + \"/04-simulated-obfuscation/\""
   ]
  },
  {
   "cell_type": "code",
   "execution_count": 20,
   "metadata": {},
   "outputs": [],
   "source": [
    "xmls_paths = list(filter(lambda f: f.endswith(\".xml\"), os.listdir(tasks_dir)))"
   ]
  },
  {
   "cell_type": "code",
   "execution_count": 21,
   "metadata": {},
   "outputs": [
    {
     "data": {
      "application/vnd.jupyter.widget-view+json": {
       "model_id": "9bf26cb9918f4e398067cd943a2e07ac",
       "version_major": 2,
       "version_minor": 0
      },
      "text/html": [
       "<p>Failed to display Jupyter Widget of type <code>HBox</code>.</p>\n",
       "<p>\n",
       "  If you're reading this message in the Jupyter Notebook or JupyterLab Notebook, it may mean\n",
       "  that the widgets JavaScript is still loading. If this message persists, it\n",
       "  likely means that the widgets JavaScript library is either not installed or\n",
       "  not enabled. See the <a href=\"https://ipywidgets.readthedocs.io/en/stable/user_install.html\">Jupyter\n",
       "  Widgets Documentation</a> for setup instructions.\n",
       "</p>\n",
       "<p>\n",
       "  If you're reading this message in another frontend (for example, a static\n",
       "  rendering on GitHub or <a href=\"https://nbviewer.jupyter.org/\">NBViewer</a>),\n",
       "  it may mean that your frontend doesn't currently support widgets.\n",
       "</p>\n"
      ],
      "text/plain": [
       "HBox(children=(IntProgress(value=0, max=1000), HTML(value='')))"
      ]
     },
     "metadata": {},
     "output_type": "display_data"
    },
    {
     "name": "stdout",
     "output_type": "stream",
     "text": [
      "\n",
      "CPU times: user 235 ms, sys: 137 ms, total: 373 ms\n",
      "Wall time: 632 ms\n"
     ]
    }
   ],
   "source": [
    "%%time\n",
    "\n",
    "train_data = []\n",
    "\n",
    "for xml_path in tqdm_notebook(xmls_paths):\n",
    "    train_xml_path = os.path.join(tasks_dir, xml_path)\n",
    "    xml_root = etree.parse(train_xml_path)\n",
    "    suspicious_path = xml_root.getroot().attrib[\"reference\"]\n",
    "    #suspicious_text = open(os.path.join(data_dir, \"susp\", suspicious_path)).read()\n",
    "    for feature in xml_root.xpath(\"feature\"):\n",
    "        train_row = {}\n",
    "        if feature.attrib[\"name\"] != \"plagiarism\":\n",
    "            continue\n",
    "        # Read raw data\n",
    "        suspicious_offset = int(feature.attrib[\"this_offset\"])\n",
    "        suspicious_length = int(feature.attrib[\"this_length\"])\n",
    "        source_offset = int(feature.attrib[\"source_offset\"])\n",
    "        source_length = int(feature.attrib[\"source_length\"])\n",
    "        source_path = feature.attrib[\"source_reference\"]\n",
    "        # Set df values\n",
    "        #train_row[\"obfuscation\"] = feature.attrib[\"type\"]\n",
    "        train_row[\"suspicious_path\"] = suspicious_path\n",
    "        train_row[\"suspicious_offset\"] = suspicious_offset\n",
    "        train_row[\"suspicious_length\"] = suspicious_length\n",
    "        train_row[\"source_path\"] = source_path\n",
    "        train_row[\"source_offset\"] = source_offset\n",
    "        train_row[\"source_length\"] = source_length\n",
    "        # Read texts and set values\n",
    "        #source_text = open(os.path.join(data_dir, \"src\", source_path)).read()\n",
    "        #train_row[\"suspicious_text\"] = suspicious_text[suspicious_offset : suspicious_offset + suspicious_length]\n",
    "        #train_row[\"source_text\"] = source_text[source_offset : source_offset + source_length]\n",
    "        train_data.append(train_row)\n",
    "\n",
    "train_df = pd.DataFrame(train_data)"
   ]
  },
  {
   "cell_type": "markdown",
   "metadata": {},
   "source": [
    "---"
   ]
  },
  {
   "cell_type": "markdown",
   "metadata": {},
   "source": [
    "03-random-obfuscation:"
   ]
  },
  {
   "cell_type": "code",
   "execution_count": 22,
   "metadata": {},
   "outputs": [
    {
     "data": {
      "text/plain": [
       "254.42738791819687"
      ]
     },
     "execution_count": 22,
     "metadata": {},
     "output_type": "execute_result"
    }
   ],
   "source": [
    "((train_df[\"source_length\"] - train_df[\"suspicious_length\"]).abs()).std()"
   ]
  },
  {
   "cell_type": "code",
   "execution_count": 23,
   "metadata": {},
   "outputs": [
    {
     "name": "stdout",
     "output_type": "stream",
     "text": [
      "pan13-text-alignment-training-corpus-2013-01-21:\n",
      "  Plagiarism case:   424 +-  366\n",
      "  Source case:       553 +-  504\n"
     ]
    }
   ],
   "source": [
    "dataset_name = os.path.basename(data_dir)\n",
    "src_mean = train_df[\"source_length\"].mean()\n",
    "src_std = train_df[\"source_length\"].std()\n",
    "susp_mean = train_df[\"suspicious_length\"].mean()\n",
    "susp_std = train_df[\"suspicious_length\"].std()\n",
    "print(\"%s:\" % dataset_name)\n",
    "print(\"  Plagiarism case: %5d +- %4d\" % (susp_mean, susp_std))\n",
    "print(\"  Source case:     %5d +- %4d\" % (src_mean, src_std))"
   ]
  },
  {
   "cell_type": "markdown",
   "metadata": {},
   "source": [
    "---"
   ]
  },
  {
   "cell_type": "markdown",
   "metadata": {},
   "source": [
    "05-summary-obfuscation:"
   ]
  },
  {
   "cell_type": "code",
   "execution_count": 17,
   "metadata": {},
   "outputs": [
    {
     "data": {
      "text/plain": [
       "2421.0739405588793"
      ]
     },
     "execution_count": 17,
     "metadata": {},
     "output_type": "execute_result"
    }
   ],
   "source": [
    "((train_df[\"source_length\"] - train_df[\"suspicious_length\"]).abs()).std()"
   ]
  },
  {
   "cell_type": "code",
   "execution_count": 18,
   "metadata": {},
   "outputs": [
    {
     "name": "stdout",
     "output_type": "stream",
     "text": [
      "pan13-text-alignment-training-corpus-2013-01-21:\n",
      "  Plagiarism case:   626 +-   45\n",
      "  Source case:      5108 +- 2430\n"
     ]
    }
   ],
   "source": [
    "dataset_name = os.path.basename(data_dir)\n",
    "src_mean = train_df[\"source_length\"].mean()\n",
    "src_std = train_df[\"source_length\"].std()\n",
    "susp_mean = train_df[\"suspicious_length\"].mean()\n",
    "susp_std = train_df[\"suspicious_length\"].std()\n",
    "print(\"%s:\" % dataset_name)\n",
    "print(\"  Plagiarism case: %5d +- %4d\" % (susp_mean, susp_std))\n",
    "print(\"  Source case:     %5d +- %4d\" % (src_mean, src_std))"
   ]
  },
  {
   "cell_type": "markdown",
   "metadata": {},
   "source": [
    "---"
   ]
  },
  {
   "cell_type": "code",
   "execution_count": 20,
   "metadata": {},
   "outputs": [
    {
     "name": "stdout",
     "output_type": "stream",
     "text": [
      "pan13-text-alignment-training-corpus-2013-01-21:\n",
      "  Plagiarism case:   626 +-   45\n",
      "  Source case:      5108 +- 2430\n"
     ]
    }
   ],
   "source": [
    "dataset_name = os.path.basename(data_dir)\n",
    "src_mean = train_df[\"source_length\"].mean()\n",
    "src_std = train_df[\"source_length\"].std()\n",
    "susp_mean = train_df[\"suspicious_length\"].mean()\n",
    "susp_std = train_df[\"suspicious_length\"].std()\n",
    "print(\"%s:\" % dataset_name)\n",
    "print(\"  Plagiarism case: %5d +- %4d\" % (susp_mean, susp_std))\n",
    "print(\"  Source case:     %5d +- %4d\" % (src_mean, src_std))"
   ]
  },
  {
   "cell_type": "code",
   "execution_count": 126,
   "metadata": {},
   "outputs": [
    {
     "name": "stdout",
     "output_type": "stream",
     "text": [
      "pan15-text-alignment-training-dataset-palkovskii15-english-2015-05-24:\n",
      "  Plagiarism case:   627 +-   42\n",
      "  Source case:      4704 +- 1846\n"
     ]
    }
   ],
   "source": [
    "dataset_name = os.path.basename(data_dir)\n",
    "src_mean = train_df[\"source_length\"].mean()\n",
    "src_std = train_df[\"source_length\"].std()\n",
    "susp_mean = train_df[\"suspicious_length\"].mean()\n",
    "susp_std = train_df[\"suspicious_length\"].std()\n",
    "print(\"%s:\" % dataset_name)\n",
    "print(\"  Plagiarism case: %5d +- %4d\" % (susp_mean, susp_std))\n",
    "print(\"  Source case:     %5d +- %4d\" % (src_mean, src_std))"
   ]
  },
  {
   "cell_type": "code",
   "execution_count": 129,
   "metadata": {},
   "outputs": [
    {
     "name": "stdout",
     "output_type": "stream",
     "text": [
      "Cоngrеssmаn Lаrkіn Smіth (D-Mіss) dіеd іn а lіght plаnе crаsh іn Mіssіssіppі Sundаy. Smіth wаs thе sеcоnd Hоusе mеmbеr tо dіе іn аn аvіаtіоn аccіdеnt thіs wееk. Rеprеsеntаtіvе Mіckеy Lеlаnd (D-Tеx) аnd 15 оthеrs wеrе fоund dеаd Sundаy аftеr thеіr plаnе crаshеd оn аn Еthіоpіаn mоuntаіnsіdе. Smіth wаs а pоlіcе chіеf аnd thеn а cоunty shеrіff cооrdіnаtіng аntі-drug еffоrts оf fеdеrаl, lоcаl, аnd stаtе аgеncіеs аcrоss fіvе stаtеs. Lаst Nоvеmbеr, hе wаs еlеctеd tо rеprеsеnt Mіssіssіppі's 5th Cоngrеssіоnаl Dіstrіct, rеplаcіng Sеnаtоr Trеnt Lоtt (R-Mіss). Hе wаs dеvеlоpіng а rеputаtіоn оn thе Hоusе Judіcіаry Cоmmіttее аs а zеаlоus оppоnеnt оf іllеgаl drugs.\n"
     ]
    }
   ],
   "source": [
    "print(train_df.loc[0][\"suspicious_text\"])"
   ]
  },
  {
   "cell_type": "code",
   "execution_count": 128,
   "metadata": {},
   "outputs": [
    {
     "name": "stdout",
     "output_type": "stream",
     "text": [
      "Freshman congressman Larkin Smith (R-Miss.) died in a light plane crash in Mississippi, authorities said Monday, making him the second member of the House killed in an aviation accident in a week.\n",
      "The single-engine Cessna 177 crashed Sunday night in thick woods near the tiny community of Janice. Smith and the pilot, Charles Vierling, who also was killed, were flying from Hattiesburg to Gulfport, according to federal and local officials.\n",
      "Searchers combed the heavily wooded DeSoto National Forest through the night but were unable to find the wreckage until Monday morning, when they spotted it from the air. \"There was a 300-foot-long path cut by the plane,\" Harrison County Sheriff's Department Capt. Rick Gaston said in a telephone interview.\n",
      "Smith, 45, died the same day the wreckage of a plane carrying Rep. Mickey Leland (D-Tex.) and 15 others was found on an Ethiopian mountainside. Leland's plane had been missing almost a week after he took off on a fact-finding mission to combat hunger.\n",
      "News of Smith's death was followed by an outpouring of sympathy from Mississippi to Washington, even as Smith's colleagues were still mourning Leland's death.\n",
      "At the White House, spokesman Marlin Fitzwater said President and Mrs. Bush \"deeply regret\" Smith's death, adding that Smith, who was elected to a seat vacated by Sen. Trent Lott (R-Miss.), \"was just beginning a promising career in the Congress.\" Smith, a former sheriff and police chief, was already developing a reputation on the House Judiciary Committee as a zealous opponent of illegal drugs.\n",
      "\"We (the congressional delegation) had come to depend on him in the fight against drugs,\" said Rep. G. V. (Sonny) Montgomery (D-Miss.) \"This is a tremendous loss to his family, his state, and the nation.\" Smith had thrown out the first ball at the Dixie Youth World Series baseball tournament Sunday and was heading home to Gulfport, taking off at about 9:10 p.m. for the 35-minute flight.\n",
      "Jack Barker, a Federal Aviation Administration spokesman here, said the plane \"lost radar contact\" at 9:25. He said area residents \"heard the airplane crash\" and notified officials. Barker said visibility was 4 to 6 miles, and \"rain was reported, but not heavy.\" Lamar Breland told the Associated Press that \"my wife was preparing to go to bed, and we heard a plane coming over. I thought at the time it was unusual for a plane to be in the area at night.\" He said he heard a \"revving sound and then a crash.\" In Miami, Jorge Prellezo, regional director of the National Transportation Safety Board, said a team of investigators had been dispatched to the scene. Investigators generally take months to establish a probable cause of such incidents.\n",
      "The plane belonged to the Institute for Marine Mammal Studies Inc. in Gulfport. The institute immediately issued a statement saying that Smith had requested use of the plane \"to accommodate his busy schedule.\" Jody Canady, a spokeswoman, said Smith was to reimburse the institute.\n",
      "The statement said the plane, manufactured in 1973, and purchased by the institute last year, had a \"current inspection.\" The pilot received his license in 1964 and had a physical examination on June 28, the statement said.\n",
      "Smith was elected last November to represent Mississippi's 5th congressional district. He was Harrison County Sheriff from 1984 to 1989, and was Gulfport police chief from 1977 to 1983. As sheriff, Smith coordinated anti-drug efforts of federal, local and state agencies across five states.\n",
      "Smith, survived by a wife and one child, was lauded by Mississippi Gov. Ray Mabus, who called his death \"a tragic loss\" for the state and ordered flags on state property flown at half staff.\n",
      "Friends and former associates in Gulfport were stunned and saddened. Gaston, who worked for Smith nine years both in the sheriff's department and earlier when Smith was Gulfport police chief, called Smith \"a pillar of strength. He was progressive, and above all, honest. You just never thought something like this would happen.\" Researcher Edith M. Stanley in Atlanta and staff writer Lori Silver in Washington contributed to this story. <BR/>\n",
      "\n"
     ]
    }
   ],
   "source": [
    "print(train_df.loc[0][\"source_text\"])"
   ]
  },
  {
   "cell_type": "markdown",
   "metadata": {},
   "source": [
    "---"
   ]
  }
 ],
 "metadata": {
  "kernelspec": {
   "display_name": "Python 3",
   "language": "python",
   "name": "python3"
  },
  "language_info": {
   "codemirror_mode": {
    "name": "ipython",
    "version": 3
   },
   "file_extension": ".py",
   "mimetype": "text/x-python",
   "name": "python",
   "nbconvert_exporter": "python",
   "pygments_lexer": "ipython3",
   "version": "3.6.4"
  }
 },
 "nbformat": 4,
 "nbformat_minor": 2
}
