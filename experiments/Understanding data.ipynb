{
 "cells": [
  {
   "cell_type": "code",
   "execution_count": 39,
   "metadata": {
    "collapsed": false,
    "deletable": true,
    "editable": true
   },
   "outputs": [],
   "source": [
    "%matplotlib inline\n",
    "import os\n",
    "import nltk\n",
    "import regex\n",
    "import pymystem3\n",
    "import collections\n",
    "import numpy as np\n",
    "import pandas as pd\n",
    "import matplotlib.pyplot as plt\n",
    "from lxml import etree"
   ]
  },
  {
   "cell_type": "markdown",
   "metadata": {
    "deletable": true,
    "editable": true
   },
   "source": [
    "## Чтение данных"
   ]
  },
  {
   "cell_type": "code",
   "execution_count": 40,
   "metadata": {
    "collapsed": true,
    "deletable": true,
    "editable": true
   },
   "outputs": [],
   "source": [
    "data_dir = \"../data/text_alignment/\"\n",
    "train_path = data_dir + \"tasks\""
   ]
  },
  {
   "cell_type": "code",
   "execution_count": 41,
   "metadata": {
    "collapsed": true,
    "deletable": true,
    "editable": true
   },
   "outputs": [],
   "source": [
    "data_dir = \"../data/pan13-text-alignment-training-corpus-2013-01-21/\"\n",
    "#train_path = data_dir + \"tasks\"\n",
    "#train_path = data_dir + \"tasks/03-random-obfuscation\"\n",
    "#train_path = data_dir + \"tasks/04-translation-obfuscation\"\n",
    "train_path = data_dir + \"tasks/05-summary-obfuscation\""
   ]
  },
  {
   "cell_type": "code",
   "execution_count": 54,
   "metadata": {
    "collapsed": true,
    "deletable": true,
    "editable": true
   },
   "outputs": [],
   "source": [
    "data_dir =\"../data/pan13-text-alignment-test-corpus2-2013-01-21/\"\n",
    "train_path = data_dir + \"tasks/01-no-plagiarism\"\n",
    "#train_path = data_dir + \"tasks/02-no-obfuscation\"\n",
    "#train_path = data_dir + \"tasks/03-random-obfuscation\"\n",
    "#train_path = data_dir + \"tasks/04-translation-obfuscation\"\n",
    "#train_path = data_dir + \"tasks/05-summary-obfuscation\""
   ]
  },
  {
   "cell_type": "code",
   "execution_count": 42,
   "metadata": {
    "collapsed": false,
    "deletable": true,
    "editable": true
   },
   "outputs": [],
   "source": [
    "xmls_paths = list(filter(lambda f: f.endswith(\".xml\"), os.listdir(train_path)))"
   ]
  },
  {
   "cell_type": "code",
   "execution_count": 43,
   "metadata": {
    "collapsed": false,
    "deletable": true,
    "editable": true
   },
   "outputs": [
    {
     "name": "stdout",
     "output_type": "stream",
     "text": [
      "CPU times: user 243 ms, sys: 56 ms, total: 299 ms\n",
      "Wall time: 426 ms\n"
     ]
    }
   ],
   "source": [
    "%%time\n",
    "\n",
    "train_data = []\n",
    "\n",
    "for xml_path in xmls_paths:\n",
    "    train_xml_path = os.path.join(train_path, xml_path)\n",
    "    xml_root = etree.parse(train_xml_path)\n",
    "    suspicious_path = xml_root.getroot().attrib[\"reference\"]\n",
    "    suspicious_text = open(os.path.join(data_dir, \"susp\", suspicious_path)).read()\n",
    "    for feature in xml_root.xpath(\"feature\"):\n",
    "        train_row = {}\n",
    "        if feature.attrib[\"name\"] != \"plagiarism\":\n",
    "            continue\n",
    "        # Read raw data\n",
    "        suspicious_offset = int(feature.attrib[\"this_offset\"])\n",
    "        suspicious_length = int(feature.attrib[\"this_length\"])\n",
    "        source_offset = int(feature.attrib[\"source_offset\"])\n",
    "        source_length = int(feature.attrib[\"source_length\"])\n",
    "        source_path = feature.attrib[\"source_reference\"]\n",
    "        # Set df values\n",
    "        train_row[\"obfuscation\"] = feature.attrib[\"type\"]\n",
    "        train_row[\"suspicious_path\"] = suspicious_path\n",
    "        train_row[\"suspicious_offset\"] = suspicious_offset\n",
    "        train_row[\"suspicious_length\"] = suspicious_length\n",
    "        train_row[\"source_path\"] = source_path\n",
    "        train_row[\"source_offset\"] = source_offset\n",
    "        train_row[\"source_length\"] = source_length\n",
    "        # Read texts and set values\n",
    "        source_text = open(os.path.join(data_dir, \"src\", source_path)).read()\n",
    "        train_row[\"suspicious_text\"] = suspicious_text[suspicious_offset : suspicious_offset + suspicious_length]\n",
    "        train_row[\"source_text\"] = source_text[source_offset : source_offset + source_length]\n",
    "        train_data.append(train_row)"
   ]
  },
  {
   "cell_type": "code",
   "execution_count": 44,
   "metadata": {
    "collapsed": true,
    "deletable": true,
    "editable": true
   },
   "outputs": [],
   "source": [
    "train_df = pd.DataFrame(train_data)"
   ]
  },
  {
   "cell_type": "code",
   "execution_count": 45,
   "metadata": {
    "collapsed": false,
    "deletable": true,
    "editable": true
   },
   "outputs": [
    {
     "data": {
      "text/plain": [
       "238"
      ]
     },
     "execution_count": 45,
     "metadata": {},
     "output_type": "execute_result"
    }
   ],
   "source": [
    "len(train_df)"
   ]
  },
  {
   "cell_type": "code",
   "execution_count": 46,
   "metadata": {
    "collapsed": false,
    "deletable": true,
    "editable": true
   },
   "outputs": [
    {
     "name": "stdout",
     "output_type": "stream",
     "text": [
      "CPU times: user 77 ms, sys: 3 ms, total: 80 ms\n",
      "Wall time: 82.5 ms\n"
     ]
    }
   ],
   "source": [
    "%time train_df.to_csv(\"pan_train_texts.csv\")"
   ]
  },
  {
   "cell_type": "markdown",
   "metadata": {
    "deletable": true,
    "editable": true
   },
   "source": [
    "## Изучение данных"
   ]
  },
  {
   "cell_type": "code",
   "execution_count": 9,
   "metadata": {
    "collapsed": false,
    "deletable": true,
    "editable": true
   },
   "outputs": [
    {
     "data": {
      "text/plain": [
       "76125"
      ]
     },
     "execution_count": 9,
     "metadata": {},
     "output_type": "execute_result"
    }
   ],
   "source": [
    "len(train_data)"
   ]
  },
  {
   "cell_type": "code",
   "execution_count": 10,
   "metadata": {
    "collapsed": false,
    "deletable": true,
    "editable": true
   },
   "outputs": [
    {
     "data": {
      "text/html": [
       "<div>\n",
       "<table border=\"1\" class=\"dataframe\">\n",
       "  <thead>\n",
       "    <tr style=\"text-align: right;\">\n",
       "      <th></th>\n",
       "      <th>obfuscation</th>\n",
       "      <th>source_path</th>\n",
       "      <th>source_text</th>\n",
       "      <th>suspicious_path</th>\n",
       "      <th>suspicious_text</th>\n",
       "    </tr>\n",
       "  </thead>\n",
       "  <tbody>\n",
       "    <tr>\n",
       "      <th>0</th>\n",
       "      <td>manual</td>\n",
       "      <td>3182571.txt</td>\n",
       "      <td>МОНДРИАН, ПИТ (наст. имя Питер Корнелис) (Mond...</td>\n",
       "      <td>043.txt</td>\n",
       "      <td>Пит Мондриан (наст.имя Питер Корнелис) (1872–1...</td>\n",
       "    </tr>\n",
       "    <tr>\n",
       "      <th>1</th>\n",
       "      <td>manual</td>\n",
       "      <td>3182571.txt</td>\n",
       "      <td>В 1911 он познакомился с кубистами, и их творч...</td>\n",
       "      <td>043.txt</td>\n",
       "      <td>Вскоре после знакомства с кубистами в 1911 год...</td>\n",
       "    </tr>\n",
       "    <tr>\n",
       "      <th>2</th>\n",
       "      <td>manual</td>\n",
       "      <td>3182571.txt</td>\n",
       "      <td>Вскоре Мондриан отказался в своих картинах от ...</td>\n",
       "      <td>043.txt</td>\n",
       "      <td>Вскоре после знакомства с кубистами в 1911 год...</td>\n",
       "    </tr>\n",
       "    <tr>\n",
       "      <th>3</th>\n",
       "      <td>manual</td>\n",
       "      <td>3182571.txt</td>\n",
       "      <td>В 1912—1916 он строил композиции на основе сво...</td>\n",
       "      <td>043.txt</td>\n",
       "      <td>В 1912—1916 он строил композиции на основе сво...</td>\n",
       "    </tr>\n",
       "    <tr>\n",
       "      <th>4</th>\n",
       "      <td>manual</td>\n",
       "      <td>3182571.txt</td>\n",
       "      <td>В это время Мондриан, подобно Жоржу Браку и Па...</td>\n",
       "      <td>043.txt</td>\n",
       "      <td>В 1912—1916 он строил композиции на основе сво...</td>\n",
       "    </tr>\n",
       "    <tr>\n",
       "      <th>5</th>\n",
       "      <td>manual</td>\n",
       "      <td>3182571.txt</td>\n",
       "      <td>К 1920 стиль Мондриана полностью сформировался.</td>\n",
       "      <td>043.txt</td>\n",
       "      <td>К 1920 стиль Мондриана полностью сформировался...</td>\n",
       "    </tr>\n",
       "    <tr>\n",
       "      <th>6</th>\n",
       "      <td>manual</td>\n",
       "      <td>3182571.txt</td>\n",
       "      <td>Используя прямые линии жестких контуров, он де...</td>\n",
       "      <td>043.txt</td>\n",
       "      <td>К 1920 стиль Мондриана полностью сформировался...</td>\n",
       "    </tr>\n",
       "    <tr>\n",
       "      <th>7</th>\n",
       "      <td>manual</td>\n",
       "      <td>3182571.txt</td>\n",
       "      <td>Мондриан еще больше сократил свои художественн...</td>\n",
       "      <td>043.txt</td>\n",
       "      <td>К 1920 стиль Мондриана полностью сформировался...</td>\n",
       "    </tr>\n",
       "    <tr>\n",
       "      <th>8</th>\n",
       "      <td>manual</td>\n",
       "      <td>3182571.txt</td>\n",
       "      <td>Умер Мондриан в Нью-Йорке 1 февраля 1944.</td>\n",
       "      <td>043.txt</td>\n",
       "      <td>Мондриан скончался в Нью-Йорке 1 февраля 1944.</td>\n",
       "    </tr>\n",
       "    <tr>\n",
       "      <th>9</th>\n",
       "      <td>manual</td>\n",
       "      <td>3182571.txt</td>\n",
       "      <td>Его произведения оказали влияние на многих сов...</td>\n",
       "      <td>043.txt</td>\n",
       "      <td>Его произведения оказали влияние на многих сов...</td>\n",
       "    </tr>\n",
       "    <tr>\n",
       "      <th>10</th>\n",
       "      <td>manual</td>\n",
       "      <td>3182571.txt</td>\n",
       "      <td>Целый ряд направлений в современном искусстве,...</td>\n",
       "      <td>043.txt</td>\n",
       "      <td>Его произведения оказали влияние на многих сов...</td>\n",
       "    </tr>\n",
       "    <tr>\n",
       "      <th>11</th>\n",
       "      <td>paraphrase</td>\n",
       "      <td>4839624.txt</td>\n",
       "      <td>| следующая ==&gt; Второй этап. Высшая лига\\nДата...</td>\n",
       "      <td>01657.txt</td>\n",
       "      <td>| следующая ==&gt; Второй пункт и этап. Высшая ли...</td>\n",
       "    </tr>\n",
       "    <tr>\n",
       "      <th>12</th>\n",
       "      <td>paraphrase</td>\n",
       "      <td>1086346.txt</td>\n",
       "      <td>Индейцы чоко из западной Колумбии доили ядовит...</td>\n",
       "      <td>01763.txt</td>\n",
       "      <td>Индейцы чоко из-за, с, из и от западной Колумб...</td>\n",
       "    </tr>\n",
       "    <tr>\n",
       "      <th>13</th>\n",
       "      <td>paraphrase</td>\n",
       "      <td>1086346.txt</td>\n",
       "      <td>Самцы собираются в стоячих или медленных водах...</td>\n",
       "      <td>01763.txt</td>\n",
       "      <td>Самцы собираются в стоячих сиречь медленных во...</td>\n",
       "    </tr>\n",
       "    <tr>\n",
       "      <th>14</th>\n",
       "      <td>copypast</td>\n",
       "      <td>1637586.txt</td>\n",
       "      <td>При организации грамматического материала авто...</td>\n",
       "      <td>00060.txt</td>\n",
       "      <td>При организации грамматического материала авто...</td>\n",
       "    </tr>\n",
       "    <tr>\n",
       "      <th>15</th>\n",
       "      <td>copypast</td>\n",
       "      <td>1637586.txt</td>\n",
       "      <td>Скороходова, ст. преподаватель кафедры иностра...</td>\n",
       "      <td>00060.txt</td>\n",
       "      <td>Скороходова, ст. преподаватель кафедры иностра...</td>\n",
       "    </tr>\n",
       "    <tr>\n",
       "      <th>16</th>\n",
       "      <td>copypast</td>\n",
       "      <td>1637586.txt</td>\n",
       "      <td>Предтекстовые упражнения подготавливают обучае...</td>\n",
       "      <td>00060.txt</td>\n",
       "      <td>Предтекстовые упражнения подготавливают обучае...</td>\n",
       "    </tr>\n",
       "    <tr>\n",
       "      <th>17</th>\n",
       "      <td>copypast</td>\n",
       "      <td>1637586.txt</td>\n",
       "      <td>Вознесенского И.В. СталинуЗаписка отдела админ...</td>\n",
       "      <td>00060.txt</td>\n",
       "      <td>Вознесенского И.В. СталинуЗаписка отдела админ...</td>\n",
       "    </tr>\n",
       "    <tr>\n",
       "      <th>18</th>\n",
       "      <td>copypast</td>\n",
       "      <td>1637586.txt</td>\n",
       "      <td>Основной целью пособия является дальнейшее сов...</td>\n",
       "      <td>00060.txt</td>\n",
       "      <td>Основной целью пособия является дальнейшее сов...</td>\n",
       "    </tr>\n",
       "    <tr>\n",
       "      <th>19</th>\n",
       "      <td>copypast</td>\n",
       "      <td>3442254.txt</td>\n",
       "      <td>Строительство государственной типографии  нача...</td>\n",
       "      <td>00610.txt</td>\n",
       "      <td>Строительство государственной типографии  нача...</td>\n",
       "    </tr>\n",
       "  </tbody>\n",
       "</table>\n",
       "</div>"
      ],
      "text/plain": [
       "   obfuscation  source_path  \\\n",
       "0       manual  3182571.txt   \n",
       "1       manual  3182571.txt   \n",
       "2       manual  3182571.txt   \n",
       "3       manual  3182571.txt   \n",
       "4       manual  3182571.txt   \n",
       "5       manual  3182571.txt   \n",
       "6       manual  3182571.txt   \n",
       "7       manual  3182571.txt   \n",
       "8       manual  3182571.txt   \n",
       "9       manual  3182571.txt   \n",
       "10      manual  3182571.txt   \n",
       "11  paraphrase  4839624.txt   \n",
       "12  paraphrase  1086346.txt   \n",
       "13  paraphrase  1086346.txt   \n",
       "14    copypast  1637586.txt   \n",
       "15    copypast  1637586.txt   \n",
       "16    copypast  1637586.txt   \n",
       "17    copypast  1637586.txt   \n",
       "18    copypast  1637586.txt   \n",
       "19    copypast  3442254.txt   \n",
       "\n",
       "                                          source_text suspicious_path  \\\n",
       "0   МОНДРИАН, ПИТ (наст. имя Питер Корнелис) (Mond...         043.txt   \n",
       "1   В 1911 он познакомился с кубистами, и их творч...         043.txt   \n",
       "2   Вскоре Мондриан отказался в своих картинах от ...         043.txt   \n",
       "3   В 1912—1916 он строил композиции на основе сво...         043.txt   \n",
       "4   В это время Мондриан, подобно Жоржу Браку и Па...         043.txt   \n",
       "5     К 1920 стиль Мондриана полностью сформировался.         043.txt   \n",
       "6   Используя прямые линии жестких контуров, он де...         043.txt   \n",
       "7   Мондриан еще больше сократил свои художественн...         043.txt   \n",
       "8           Умер Мондриан в Нью-Йорке 1 февраля 1944.         043.txt   \n",
       "9   Его произведения оказали влияние на многих сов...         043.txt   \n",
       "10  Целый ряд направлений в современном искусстве,...         043.txt   \n",
       "11  | следующая ==> Второй этап. Высшая лига\\nДата...       01657.txt   \n",
       "12  Индейцы чоко из западной Колумбии доили ядовит...       01763.txt   \n",
       "13  Самцы собираются в стоячих или медленных водах...       01763.txt   \n",
       "14  При организации грамматического материала авто...       00060.txt   \n",
       "15  Скороходова, ст. преподаватель кафедры иностра...       00060.txt   \n",
       "16  Предтекстовые упражнения подготавливают обучае...       00060.txt   \n",
       "17  Вознесенского И.В. СталинуЗаписка отдела админ...       00060.txt   \n",
       "18  Основной целью пособия является дальнейшее сов...       00060.txt   \n",
       "19  Строительство государственной типографии  нача...       00610.txt   \n",
       "\n",
       "                                      suspicious_text  \n",
       "0   Пит Мондриан (наст.имя Питер Корнелис) (1872–1...  \n",
       "1   Вскоре после знакомства с кубистами в 1911 год...  \n",
       "2   Вскоре после знакомства с кубистами в 1911 год...  \n",
       "3   В 1912—1916 он строил композиции на основе сво...  \n",
       "4   В 1912—1916 он строил композиции на основе сво...  \n",
       "5   К 1920 стиль Мондриана полностью сформировался...  \n",
       "6   К 1920 стиль Мондриана полностью сформировался...  \n",
       "7   К 1920 стиль Мондриана полностью сформировался...  \n",
       "8     Мондриан скончался в Нью-Йорке 1 февраля 1944.   \n",
       "9   Его произведения оказали влияние на многих сов...  \n",
       "10  Его произведения оказали влияние на многих сов...  \n",
       "11  | следующая ==> Второй пункт и этап. Высшая ли...  \n",
       "12  Индейцы чоко из-за, с, из и от западной Колумб...  \n",
       "13  Самцы собираются в стоячих сиречь медленных во...  \n",
       "14  При организации грамматического материала авто...  \n",
       "15  Скороходова, ст. преподаватель кафедры иностра...  \n",
       "16  Предтекстовые упражнения подготавливают обучае...  \n",
       "17  Вознесенского И.В. СталинуЗаписка отдела админ...  \n",
       "18  Основной целью пособия является дальнейшее сов...  \n",
       "19  Строительство государственной типографии  нача...  "
      ]
     },
     "execution_count": 10,
     "metadata": {},
     "output_type": "execute_result"
    }
   ],
   "source": [
    "train_df[[\"obfuscation\", \"source_path\", \"source_text\", \"suspicious_path\", \"suspicious_text\"]].head(20)"
   ]
  },
  {
   "cell_type": "code",
   "execution_count": 27,
   "metadata": {
    "collapsed": false,
    "deletable": true,
    "editable": true
   },
   "outputs": [
    {
     "data": {
      "text/plain": [
       "<matplotlib.axes._subplots.AxesSubplot at 0x7f54fe435908>"
      ]
     },
     "execution_count": 27,
     "metadata": {},
     "output_type": "execute_result"
    },
    {
     "data": {
      "image/png": "[encoded data removed]",
      "text/plain": [
       "<matplotlib.figure.Figure at 0x7f54fe1f9e10>"
      ]
     },
     "metadata": {},
     "output_type": "display_data"
    }
   ],
   "source": [
    "train_df[\"source_length\"].hist(bins=50, range=(200, 2000))"
   ]
  },
  {
   "cell_type": "code",
   "execution_count": 28,
   "metadata": {
    "collapsed": false,
    "deletable": true,
    "editable": true
   },
   "outputs": [
    {
     "data": {
      "text/plain": [
       "<matplotlib.axes._subplots.AxesSubplot at 0x7f54fe01d128>"
      ]
     },
     "execution_count": 28,
     "metadata": {},
     "output_type": "execute_result"
    },
    {
     "data": {
      "image/png": "[encoded data removed]",
      "text/plain": [
       "<matplotlib.figure.Figure at 0x7f54fe1f9080>"
      ]
     },
     "metadata": {},
     "output_type": "display_data"
    }
   ],
   "source": [
    "train_df[\"suspicious_length\"].hist(bins=50, range=(200, 2000))"
   ]
  },
  {
   "cell_type": "code",
   "execution_count": 29,
   "metadata": {
    "collapsed": false,
    "deletable": true,
    "editable": true
   },
   "outputs": [
    {
     "data": {
      "text/plain": [
       "<matplotlib.axes._subplots.AxesSubplot at 0x7f54fc6537b8>"
      ]
     },
     "execution_count": 29,
     "metadata": {},
     "output_type": "execute_result"
    },
    {
     "data": {
      "image/png": "[encoded data removed]",
      "text/plain": [
       "<matplotlib.figure.Figure at 0x7f54fc70dc50>"
      ]
     },
     "metadata": {},
     "output_type": "display_data"
    }
   ],
   "source": [
    "(train_df[\"source_length\"] - train_df[\"suspicious_length\"]).hist(bins=50, range=(-100, 500))"
   ]
  },
  {
   "cell_type": "markdown",
   "metadata": {
    "deletable": true,
    "editable": true
   },
   "source": [
    "---"
   ]
  },
  {
   "cell_type": "code",
   "execution_count": 30,
   "metadata": {
    "collapsed": false,
    "deletable": true,
    "editable": true
   },
   "outputs": [
    {
     "data": {
      "text/html": [
       "<div>\n",
       "<table border=\"1\" class=\"dataframe\">\n",
       "  <thead>\n",
       "    <tr style=\"text-align: right;\">\n",
       "      <th></th>\n",
       "      <th>obfuscation</th>\n",
       "      <th>source_length</th>\n",
       "      <th>source_offset</th>\n",
       "      <th>source_path</th>\n",
       "      <th>source_text</th>\n",
       "      <th>suspicious_length</th>\n",
       "      <th>suspicious_offset</th>\n",
       "      <th>suspicious_path</th>\n",
       "      <th>suspicious_text</th>\n",
       "    </tr>\n",
       "  </thead>\n",
       "  <tbody>\n",
       "  </tbody>\n",
       "</table>\n",
       "</div>"
      ],
      "text/plain": [
       "Empty DataFrame\n",
       "Columns: [obfuscation, source_length, source_offset, source_path, source_text, suspicious_length, suspicious_offset, suspicious_path, suspicious_text]\n",
       "Index: []"
      ]
     },
     "execution_count": 30,
     "metadata": {},
     "output_type": "execute_result"
    }
   ],
   "source": [
    "train_df[train_df[\"obfuscation\"] == \"LPR\"]"
   ]
  },
  {
   "cell_type": "code",
   "execution_count": 31,
   "metadata": {
    "collapsed": false,
    "deletable": true,
    "editable": true
   },
   "outputs": [
    {
     "data": {
      "text/html": [
       "<div>\n",
       "<table border=\"1\" class=\"dataframe\">\n",
       "  <thead>\n",
       "    <tr style=\"text-align: right;\">\n",
       "      <th></th>\n",
       "      <th>obfuscation</th>\n",
       "      <th>source_length</th>\n",
       "      <th>source_offset</th>\n",
       "      <th>source_path</th>\n",
       "      <th>source_text</th>\n",
       "      <th>suspicious_length</th>\n",
       "      <th>suspicious_offset</th>\n",
       "      <th>suspicious_path</th>\n",
       "      <th>suspicious_text</th>\n",
       "    </tr>\n",
       "  </thead>\n",
       "  <tbody>\n",
       "  </tbody>\n",
       "</table>\n",
       "</div>"
      ],
      "text/plain": [
       "Empty DataFrame\n",
       "Columns: [obfuscation, source_length, source_offset, source_path, source_text, suspicious_length, suspicious_offset, suspicious_path, suspicious_text]\n",
       "Index: []"
      ]
     },
     "execution_count": 31,
     "metadata": {},
     "output_type": "execute_result"
    }
   ],
   "source": [
    "train_df[train_df[\"obfuscation\"] == \"LPR\"]"
   ]
  },
  {
   "cell_type": "markdown",
   "metadata": {
    "deletable": true,
    "editable": true
   },
   "source": [
    "---"
   ]
  },
  {
   "cell_type": "markdown",
   "metadata": {
    "deletable": true,
    "editable": true
   },
   "source": [
    "**Распределение типов плагиата**"
   ]
  },
  {
   "cell_type": "code",
   "execution_count": 32,
   "metadata": {
    "collapsed": false,
    "deletable": true,
    "editable": true
   },
   "outputs": [
    {
     "data": {
      "text/plain": [
       "[('artificial', 1267)]"
      ]
     },
     "execution_count": 32,
     "metadata": {},
     "output_type": "execute_result"
    }
   ],
   "source": [
    "collections.Counter(train_df[\"obfuscation\"]).most_common(25)"
   ]
  },
  {
   "cell_type": "markdown",
   "metadata": {
    "deletable": true,
    "editable": true
   },
   "source": [
    "---"
   ]
  },
  {
   "cell_type": "code",
   "execution_count": 33,
   "metadata": {
    "collapsed": false,
    "deletable": true,
    "editable": true
   },
   "outputs": [],
   "source": [
    "## Гипотеза: заимствования состоят из одинакового числа предложений.\n",
    "\n",
    "dots_diff = train_df[\"suspicious_text\"].apply(lambda s: s.count(\"\\n\")) - \\\n",
    "            train_df[\"source_text\"].apply(lambda s: s.count(\"\\n\"))"
   ]
  },
  {
   "cell_type": "code",
   "execution_count": 34,
   "metadata": {
    "collapsed": false,
    "deletable": true,
    "editable": true
   },
   "outputs": [
    {
     "data": {
      "text/plain": [
       "<matplotlib.axes._subplots.AxesSubplot at 0x7f54fc5c7198>"
      ]
     },
     "execution_count": 34,
     "metadata": {},
     "output_type": "execute_result"
    },
    {
     "data": {
      "image/png": "[encoded data removed]",
      "text/plain": [
       "<matplotlib.figure.Figure at 0x7f54fe1f9160>"
      ]
     },
     "metadata": {},
     "output_type": "display_data"
    }
   ],
   "source": [
    "dots_diff.hist(bins=50)"
   ]
  },
  {
   "cell_type": "code",
   "execution_count": 35,
   "metadata": {
    "collapsed": false,
    "deletable": true,
    "editable": true
   },
   "outputs": [
    {
     "data": {
      "text/plain": [
       "-30"
      ]
     },
     "execution_count": 35,
     "metadata": {},
     "output_type": "execute_result"
    }
   ],
   "source": [
    "dots_diff.min()"
   ]
  },
  {
   "cell_type": "code",
   "execution_count": 36,
   "metadata": {
    "collapsed": false,
    "deletable": true,
    "editable": true
   },
   "outputs": [
    {
     "data": {
      "text/plain": [
       "45"
      ]
     },
     "execution_count": 36,
     "metadata": {},
     "output_type": "execute_result"
    }
   ],
   "source": [
    "dots_diff.max()"
   ]
  },
  {
   "cell_type": "code",
   "execution_count": 37,
   "metadata": {
    "collapsed": false,
    "deletable": true,
    "editable": true
   },
   "outputs": [
    {
     "data": {
      "text/plain": [
       "0.164956590370955"
      ]
     },
     "execution_count": 37,
     "metadata": {},
     "output_type": "execute_result"
    }
   ],
   "source": [
    "len(dots_diff[dots_diff == 0]) / len(dots_diff)"
   ]
  },
  {
   "cell_type": "code",
   "execution_count": 38,
   "metadata": {
    "collapsed": false,
    "deletable": true,
    "editable": true
   },
   "outputs": [
    {
     "data": {
      "text/plain": [
       "1058"
      ]
     },
     "execution_count": 38,
     "metadata": {},
     "output_type": "execute_result"
    }
   ],
   "source": [
    "len(dots_diff[dots_diff != 0])"
   ]
  },
  {
   "cell_type": "code",
   "execution_count": 39,
   "metadata": {
    "collapsed": false,
    "deletable": true,
    "editable": true
   },
   "outputs": [
    {
     "data": {
      "text/plain": [
       "531   -30\n",
       "dtype: int64"
      ]
     },
     "execution_count": 39,
     "metadata": {},
     "output_type": "execute_result"
    }
   ],
   "source": [
    "dots_diff[dots_diff == dots_diff.min()]"
   ]
  },
  {
   "cell_type": "code",
   "execution_count": 40,
   "metadata": {
    "collapsed": false,
    "deletable": true,
    "editable": true
   },
   "outputs": [
    {
     "data": {
      "text/plain": [
       "513    45\n",
       "dtype: int64"
      ]
     },
     "execution_count": 40,
     "metadata": {},
     "output_type": "execute_result"
    }
   ],
   "source": [
    "dots_diff[dots_diff == dots_diff.max()]"
   ]
  },
  {
   "cell_type": "code",
   "execution_count": 41,
   "metadata": {
    "collapsed": true,
    "deletable": true,
    "editable": true
   },
   "outputs": [],
   "source": [
    "def show_texts(plag_id):\n",
    "    obj = train_df.loc[plag_id]\n",
    "    print(\"Plagiat type:\", obj[\"obfuscation\"])\n",
    "    print(\"susp/\" + obj[\"suspicious_path\"] + \" : \" + repr(obj[\"suspicious_text\"]))\n",
    "    print(\"src/\"+ obj[\"source_path\"] + \" : \" + repr(obj[\"source_text\"]))"
   ]
  },
  {
   "cell_type": "code",
   "execution_count": 42,
   "metadata": {
    "collapsed": false,
    "deletable": true,
    "editable": true
   },
   "outputs": [],
   "source": [
    "# Word tokenization.\n",
    "\n",
    "token_regexp = regex.compile(\"(?u)\\\\b(\\\\p{L}+|\\d+)\\\\b\")\n",
    "\n",
    "def tokenize(text):\n",
    "    return token_regexp.findall(text)"
   ]
  },
  {
   "cell_type": "code",
   "execution_count": 43,
   "metadata": {
    "collapsed": true,
    "deletable": true,
    "editable": true
   },
   "outputs": [],
   "source": [
    "def jaccard_dist(l1, l2):\n",
    "    s1, s2 = set(l1), set(l2)\n",
    "    if len(s1) == 0 and len(s2) == 0:\n",
    "        return 1\n",
    "    else:\n",
    "        return 1 - len(s1 & s2) / len(s1 | s2)"
   ]
  },
  {
   "cell_type": "code",
   "execution_count": 44,
   "metadata": {
    "collapsed": true,
    "deletable": true,
    "editable": true
   },
   "outputs": [],
   "source": [
    "f = lambda x: jaccard_dist(tokenize(train_df.loc[x][\"source_text\"]), tokenize(train_df.loc[x][\"suspicious_text\"]))"
   ]
  },
  {
   "cell_type": "code",
   "execution_count": 45,
   "metadata": {
    "collapsed": false,
    "deletable": true,
    "editable": true
   },
   "outputs": [
    {
     "data": {
      "text/plain": [
       "0.5602836879432624"
      ]
     },
     "execution_count": 45,
     "metadata": {},
     "output_type": "execute_result"
    }
   ],
   "source": [
    "f(42)"
   ]
  },
  {
   "cell_type": "code",
   "execution_count": 46,
   "metadata": {
    "collapsed": false,
    "deletable": true,
    "editable": true
   },
   "outputs": [
    {
     "name": "stdout",
     "output_type": "stream",
     "text": [
      "Plagiat type: artificial\n",
      "susp/suspicious-document01386.txt : 'S KoulopoulosDestination Imagination Parents work with small groups of pupil to develop their original\\ntalents and create an imaginative acting based in\\xa0 theme. Students also enter in the state-wide competition. A-a Middle School teachersexchange City, NH Students get a sensation on what it\\x19 Tom like of\\xa0 real world during this six-week program. '\n",
      "src/source-document01819.txt : 'Tom KoulopoulosDestination Imagination\\nParents work with small groups of students to develop their imaginative talents and create an original skit based on a theme. Students also participate in a state-wide competition.\\n\\xa0-\\xa0Middle School TeachersExchange City, NH\\nStudents get a taste of what it\\x19s like in the real world during this six-week program.'\n"
     ]
    }
   ],
   "source": [
    "show_texts(2)"
   ]
  },
  {
   "cell_type": "code",
   "execution_count": 68,
   "metadata": {
    "collapsed": true,
    "deletable": true,
    "editable": true
   },
   "outputs": [],
   "source": [
    "# Sentence tokenization.\n",
    "\n",
    "sent_detector = nltk.data.load(\"tokenizers/punkt/english.pickle\")\n",
    "max_short_len = 3\n",
    "\n",
    "def sent_tokenize(text):\n",
    "    # Basic preprocessing.\n",
    "    text = text.lower()\n",
    "\n",
    "    # Step 1: generate sentences and spans.\n",
    "    sentences = [tokenize(x) for x in sent_detector.tokenize(text)]\n",
    "    spans = sent_detector.span_tokenize(text)\n",
    "\n",
    "    # Step 2: concatenate short sentences.\n",
    "    out_sentences = []\n",
    "    out_spans = []\n",
    "    short_sentence = []\n",
    "    short_span = None\n",
    "    for sent, span in zip(sentences, spans):\n",
    "        if short_span:\n",
    "            short_sentence += sent\n",
    "            short_span = (short_span[0], span[1])\n",
    "        elif len(sent) <= max_short_len:\n",
    "            short_sentence = sent\n",
    "            short_span = span\n",
    "        if len(sent) > max_short_len:\n",
    "            if short_span:\n",
    "                out_sentences.append(short_sentence)\n",
    "                out_spans.append(short_span)\n",
    "                short_sentence = []\n",
    "                short_span = None\n",
    "            else:\n",
    "                out_sentences.append(sent)\n",
    "                out_spans.append(span)\n",
    "    if short_span:\n",
    "        out_sentences.append(short_sentence)\n",
    "        out_spans.append(short_span)\n",
    "\n",
    "    return out_sentences, out_spans"
   ]
  },
  {
   "cell_type": "code",
   "execution_count": 69,
   "metadata": {
    "collapsed": false,
    "deletable": true,
    "editable": true
   },
   "outputs": [
    {
     "data": {
      "text/plain": [
       "([['the',\n",
       "   'drive',\n",
       "   'from',\n",
       "   'san',\n",
       "   'juan',\n",
       "   'is',\n",
       "   'on',\n",
       "   'a',\n",
       "   'modern',\n",
       "   'toll',\n",
       "   'highway',\n",
       "   'and',\n",
       "   'the',\n",
       "   'style',\n",
       "   'of',\n",
       "   'driving',\n",
       "   'is',\n",
       "   'similar',\n",
       "   'to',\n",
       "   'any',\n",
       "   'large',\n",
       "   'metropolitan',\n",
       "   'area',\n",
       "   'in',\n",
       "   'the',\n",
       "   'mainland',\n",
       "   'usa'],\n",
       "  ['note',\n",
       "   'most',\n",
       "   'drivers',\n",
       "   'in',\n",
       "   'puerto',\n",
       "   'rico',\n",
       "   'do',\n",
       "   'not',\n",
       "   'use',\n",
       "   'their',\n",
       "   'directional',\n",
       "   'signals',\n",
       "   'so',\n",
       "   'don',\n",
       "   't',\n",
       "   'be',\n",
       "   'surprised',\n",
       "   'if',\n",
       "   'cars',\n",
       "   'turn',\n",
       "   'without',\n",
       "   'notice'],\n",
       "  ['once',\n",
       "   'you',\n",
       "   'reach',\n",
       "   'aguadilla',\n",
       "   'the',\n",
       "   'road',\n",
       "   'narrows',\n",
       "   'and',\n",
       "   'becomes',\n",
       "   'a',\n",
       "   '4',\n",
       "   'lane',\n",
       "   'road',\n",
       "   'with',\n",
       "   'stoplights',\n",
       "   'along',\n",
       "   'the',\n",
       "   'way']],\n",
       " [(0, 139), (141, 264), (265, 364)])"
      ]
     },
     "execution_count": 69,
     "metadata": {},
     "output_type": "execute_result"
    }
   ],
   "source": [
    "sent_tokenize(train_df.loc[19][\"source_text\"])"
   ]
  },
  {
   "cell_type": "markdown",
   "metadata": {
    "deletable": true,
    "editable": true
   },
   "source": [
    "## Задачи, которые хорошо бы сделать"
   ]
  },
  {
   "cell_type": "markdown",
   "metadata": {
    "deletable": true,
    "editable": true
   },
   "source": [
    "1. Разобраться, как (и с какой сложностью) работает baseline-решение."
   ]
  },
  {
   "cell_type": "markdown",
   "metadata": {
    "deletable": true,
    "editable": true
   },
   "source": [
    "## Вопросы, которые предстоит решить"
   ]
  },
  {
   "cell_type": "markdown",
   "metadata": {
    "deletable": true,
    "editable": true
   },
   "source": [
    "1. Что считать границами предложения? В 6.5% случаев нельзя делить по `\\n`, пример `9291`.\n",
    "2. Какая метрика качества будет использоваться для итоговой оценки?"
   ]
  },
  {
   "cell_type": "markdown",
   "metadata": {
    "deletable": true,
    "editable": true
   },
   "source": [
    "## Проблемы с обучающей выборкой"
   ]
  },
  {
   "cell_type": "markdown",
   "metadata": {
    "deletable": true,
    "editable": true
   },
   "source": [
    "1. Не полностью выделяются куски заимствований в source, пример -- `3844` и `9026`."
   ]
  },
  {
   "cell_type": "markdown",
   "metadata": {
    "deletable": true,
    "editable": true
   },
   "source": [
    "---"
   ]
  }
 ],
 "metadata": {
  "kernelspec": {
   "display_name": "Python 3",
   "language": "python",
   "name": "python3"
  },
  "language_info": {
   "codemirror_mode": {
    "name": "ipython",
    "version": 3
   },
   "file_extension": ".py",
   "mimetype": "text/x-python",
   "name": "python",
   "nbconvert_exporter": "python",
   "pygments_lexer": "ipython3",
   "version": "3.5.3"
  },
  "latex_envs": {
   "bibliofile": "biblio.bib",
   "cite_by": "apalike",
   "current_citInitial": 1,
   "eqLabelWithNumbers": true,
   "eqNumInitial": 0
  }
 },
 "nbformat": 4,
 "nbformat_minor": 2
}
