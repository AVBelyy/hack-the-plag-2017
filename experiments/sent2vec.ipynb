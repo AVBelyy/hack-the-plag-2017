{
 "cells": [
  {
   "cell_type": "code",
   "execution_count": 5,
   "metadata": {
    "collapsed": true,
    "deletable": true,
    "editable": true
   },
   "outputs": [],
   "source": [
    "%matplotlib inline\n",
    "import os\n",
    "import csv\n",
    "import regex\n",
    "import pickle\n",
    "import pymystem3\n",
    "import itertools\n",
    "import collections\n",
    "import numpy as np\n",
    "import pandas as pd\n",
    "import matplotlib.pyplot as plt\n",
    "from lxml import etree"
   ]
  },
  {
   "cell_type": "code",
   "execution_count": 6,
   "metadata": {
    "collapsed": true,
    "deletable": true,
    "editable": true
   },
   "outputs": [],
   "source": [
    "from tqdm import tqdm_notebook\n",
    "from sklearn.metrics.pairwise import cosine_similarity"
   ]
  },
  {
   "cell_type": "code",
   "execution_count": 7,
   "metadata": {
    "collapsed": true,
    "deletable": true,
    "editable": true
   },
   "outputs": [],
   "source": [
    "token_regexp = regex.compile(\"(?u)\\\\b(\\\\p{L}+|\\d+)\\\\b\")\n",
    "\n",
    "def tokenize(text):\n",
    "    return token_regexp.findall(text)"
   ]
  },
  {
   "cell_type": "code",
   "execution_count": 8,
   "metadata": {
    "collapsed": false,
    "deletable": true,
    "editable": true
   },
   "outputs": [],
   "source": [
    "stemmer = pymystem3.Mystem()\n",
    "\n",
    "add_unparsed = True\n",
    "gr_regexp = regex.compile(\"[^\\w]\")\n",
    "\n",
    "def lemmatize(tokens):\n",
    "    lemmas = []\n",
    "    tokens_str = \" \".join(tokens)\n",
    "    for res in stemmer.analyze(tokens_str):\n",
    "        if res.get(\"analysis\"):\n",
    "            info = res[\"analysis\"][0]\n",
    "            #stem_pos, *_ = gr_regexp.split(info[\"gr\"].upper())\n",
    "            #lemmas.append(\"%s_%s\" % (info[\"lex\"], mystem_to_uni_map.get(stem_pos, \"X\")))\n",
    "            lemmas.append(info[\"lex\"].strip())\n",
    "        elif add_unparsed:\n",
    "            lemmas.append(res[\"text\"].strip())\n",
    "    return list(filter(None, lemmas))"
   ]
  },
  {
   "cell_type": "markdown",
   "metadata": {
    "deletable": true,
    "editable": true
   },
   "source": [
    "## Train"
   ]
  },
  {
   "cell_type": "code",
   "execution_count": 9,
   "metadata": {
    "collapsed": true,
    "deletable": true,
    "editable": true
   },
   "outputs": [],
   "source": [
    "data_dir = \"../data/text_alignment/\"\n",
    "task_name = \"\""
   ]
  },
  {
   "cell_type": "code",
   "execution_count": 10,
   "metadata": {
    "collapsed": false,
    "deletable": true,
    "editable": true
   },
   "outputs": [
    {
     "name": "stdout",
     "output_type": "stream",
     "text": [
      "\n",
      "CPU times: user 5min 3s, sys: 21.8 s, total: 5min 25s\n",
      "Wall time: 25min 12s\n"
     ]
    }
   ],
   "source": [
    "%%time\n",
    "\n",
    "files_sentences_ids = {}\n",
    "sents_cnt = 0\n",
    "\n",
    "paths = collections.OrderedDict()\n",
    "with open(data_dir + \"tasks/%s/pairs\" % task_name) as fin:\n",
    "    for line in fin:\n",
    "        susp_name, src_name = line.strip().split()\n",
    "        paths[\"susp/\" + susp_name] = 1\n",
    "        paths[\"src/\" + src_name] = 1\n",
    "paths = list(paths.keys())\n",
    "\n",
    "with open(\"dialog.sent2vec.train.txt\", \"w\") as fout:\n",
    "    for path in tqdm_notebook(paths):\n",
    "        need_to_continue = False\n",
    "        lines = []\n",
    "        with open(data_dir + path) as file:\n",
    "            for line in file:\n",
    "                line = line.strip().lower()\n",
    "                tokens = tokenize(line)\n",
    "                lines.append(tokens)\n",
    "        files_sentences_ids[path] = []\n",
    "        for i, line in enumerate(lines):\n",
    "            lemmas = lemmatize(line)\n",
    "            if lemmas:\n",
    "                fout.write(\"%s\\n\" % \" \".join(lemmas))\n",
    "                files_sentences_ids[path].append((sents_cnt, i))\n",
    "                sents_cnt += 1"
   ]
  },
  {
   "cell_type": "code",
   "execution_count": 11,
   "metadata": {
    "collapsed": false,
    "deletable": true,
    "editable": true
   },
   "outputs": [
    {
     "name": "stdout",
     "output_type": "stream",
     "text": [
      "Read 33M words\n",
      "Number of words:  307125\n",
      "Number of labels: 0\n",
      "terminate called after throwing an instance of 'std::bad_alloc'\n",
      "  what():  std::bad_alloc\n",
      "CPU times: user 227 ms, sys: 57 ms, total: 284 ms\n",
      "Wall time: 7.18 s\n"
     ]
    }
   ],
   "source": [
    "%%time\n",
    "\n",
    "!./sent2vec sent2vec -input dialog.sent2vec.train.txt -output dialog.sent2vec -minCount 2 \\\n",
    "                     -dim 100 -wordNgrams 2 -epoch 50 -lr 0.5"
   ]
  },
  {
   "cell_type": "markdown",
   "metadata": {
    "deletable": true,
    "editable": true
   },
   "source": [
    "## How well train set is fit"
   ]
  },
  {
   "cell_type": "code",
   "execution_count": 26,
   "metadata": {
    "collapsed": false,
    "deletable": true,
    "editable": true
   },
   "outputs": [
    {
     "name": "stdout",
     "output_type": "stream",
     "text": [
      "\n",
      "CPU times: user 4.99 s, sys: 377 ms, total: 5.36 s\n",
      "Wall time: 24.4 s\n"
     ]
    }
   ],
   "source": [
    "%%time\n",
    "\n",
    "sentences_cnt = 0\n",
    "sentences_pairs_list = []\n",
    "\n",
    "with open(\"train_texts.csv\") as csv_file, open(\"sent2vec.test.txt\", \"w\") as out_test_file:\n",
    "    header = csv_file.readline().strip().split(\",\")\n",
    "    header[0] = \"id\"\n",
    "    csv_reader = csv.DictReader(csv_file, header)\n",
    "    for row in tqdm_notebook(csv_reader):\n",
    "        susp_text = lemmatize(tokenize(row[\"suspicious_text\"].strip().lower()))\n",
    "        src_text = lemmatize(tokenize(row[\"source_text\"].strip().lower()))\n",
    "        out_test_file.write(\"%s\\n%s\\n\" % (\" \".join(susp_text), \" \".join(src_text)))\n",
    "        sentences_pairs_list.append((sentences_cnt, sentences_cnt + 1))\n",
    "        sentences_cnt += 2"
   ]
  },
  {
   "cell_type": "code",
   "execution_count": 27,
   "metadata": {
    "collapsed": false,
    "deletable": true,
    "editable": true
   },
   "outputs": [
    {
     "name": "stdout",
     "output_type": "stream",
     "text": [
      "CPU times: user 1.42 s, sys: 163 ms, total: 1.59 s\n",
      "Wall time: 4.71 s\n"
     ]
    }
   ],
   "source": [
    "%%time\n",
    "\n",
    "sentences_list = []\n",
    "\n",
    "sv_out = !./sent2vec print-sentence-vectors sent2vec.bin < sent2vec.test.txt\n",
    "for line in sv_out:\n",
    "    sentences_list.append(np.array(list(map(float, line.strip().split(\" \")))))\n",
    "del sv_out"
   ]
  },
  {
   "cell_type": "code",
   "execution_count": 28,
   "metadata": {
    "collapsed": true,
    "deletable": true,
    "editable": true
   },
   "outputs": [],
   "source": [
    "negative_sample_size = 100"
   ]
  },
  {
   "cell_type": "code",
   "execution_count": 29,
   "metadata": {
    "collapsed": false,
    "deletable": true,
    "editable": true
   },
   "outputs": [
    {
     "name": "stdout",
     "output_type": "stream",
     "text": [
      "\n",
      "CPU times: user 1min 14s, sys: 0 ns, total: 1min 14s\n",
      "Wall time: 20.6 s\n"
     ]
    }
   ],
   "source": [
    "%%time\n",
    "\n",
    "np.random.seed(1)\n",
    "\n",
    "clf_train = []\n",
    "results_list = []\n",
    "\n",
    "for sentence_pair in tqdm_notebook(sentences_pairs_list):\n",
    "    question_id = sentence_pair[0]\n",
    "    question = sentences_list[question_id]\n",
    "    positive_sample_id = sentence_pair[1]\n",
    "    positive_sample = sentences_list[positive_sample_id]\n",
    "    negative_samples_ids = set()\n",
    "    while True:\n",
    "        sample_id = np.random.choice(len(sentences_list))\n",
    "        if sample_id not in negative_samples_ids and sample_id not in sentence_pair:\n",
    "            negative_samples_ids.add(sample_id)\n",
    "        if len(negative_samples_ids) == negative_sample_size:\n",
    "            break\n",
    "    negative_samples = list(map(sentences_list.__getitem__, negative_samples_ids))\n",
    "    dists = 1 - cosine_similarity([question], [positive_sample] + negative_samples)[0]\n",
    "    ranks = sorted(range(len(dists)), key=dists.__getitem__)\n",
    "    res = ranks.index(0)\n",
    "    results_list.append(res)\n",
    "    clf_train.append((dists[ranks[0]], res == 0))"
   ]
  },
  {
   "cell_type": "code",
   "execution_count": 30,
   "metadata": {
    "collapsed": false,
    "deletable": true,
    "editable": true
   },
   "outputs": [
    {
     "name": "stdout",
     "output_type": "stream",
     "text": [
      "Mean ranking: 0.847\n",
      "nDCG@ 1: 0.957 | Hits@ 1: 0.957\n",
      "nDCG@ 5: 0.969 | Hits@ 5: 0.978\n",
      "nDCG@10: 0.970 | Hits@10: 0.983\n"
     ]
    }
   ],
   "source": [
    "ks = [1, 5, 10]\n",
    "results_all_ranks = np.array(results_list)\n",
    "\n",
    "print(\"Mean ranking: %.3f\" % np.mean(results_all_ranks))\n",
    "\n",
    "for k in ks:\n",
    "    ndcg = np.mean(1 / np.log2(np.where(results_all_ranks <= k - 1, results_all_ranks, np.inf) + 2))\n",
    "    hits = len(results_all_ranks[results_all_ranks <= k - 1]) / len(results_all_ranks)\n",
    "    print(\"nDCG@%2d: %.3f | Hits@%2d: %.3f\" % (k, ndcg, k, hits))"
   ]
  },
  {
   "cell_type": "markdown",
   "metadata": {
    "deletable": true,
    "editable": true
   },
   "source": [
    "### Error analysis"
   ]
  },
  {
   "cell_type": "code",
   "execution_count": 31,
   "metadata": {
    "collapsed": true,
    "deletable": true,
    "editable": true
   },
   "outputs": [],
   "source": [
    "def show_texts(plag_id):\n",
    "    obj = test_df.loc[plag_id]\n",
    "    print(\"Plagiat type:\", obj[\"obfuscation\"])\n",
    "    print(\"susp/\" + obj[\"suspicious_path\"] + \" : \" + repr(obj[\"suspicious_text\"]))\n",
    "    print(\"src/\"+ obj[\"source_path\"] + \" : \" + repr(obj[\"source_text\"]))"
   ]
  },
  {
   "cell_type": "markdown",
   "metadata": {
    "deletable": true,
    "editable": true
   },
   "source": [
    "## How well text alignment performs"
   ]
  },
  {
   "cell_type": "code",
   "execution_count": 32,
   "metadata": {
    "collapsed": false,
    "deletable": true,
    "editable": true
   },
   "outputs": [
    {
     "name": "stdout",
     "output_type": "stream",
     "text": [
      "CPU times: user 266 ms, sys: 19 ms, total: 285 ms\n",
      "Wall time: 9.95 s\n"
     ]
    }
   ],
   "source": [
    "%%time\n",
    "\n",
    "!./sent2vec print-sentence-vectors sent2vec.bin < sent2vec.train.txt > vectors.txt"
   ]
  },
  {
   "cell_type": "code",
   "execution_count": 33,
   "metadata": {
    "collapsed": false,
    "deletable": true,
    "editable": true
   },
   "outputs": [
    {
     "name": "stdout",
     "output_type": "stream",
     "text": [
      "CPU times: user 4.71 s, sys: 195 ms, total: 4.91 s\n",
      "Wall time: 4.91 s\n"
     ]
    }
   ],
   "source": [
    "%%time\n",
    "\n",
    "all_vectors = []\n",
    "\n",
    "with open(\"vectors.txt\") as fin:\n",
    "    for line in fin:\n",
    "        all_vectors.append(list(map(float, line.strip().split(\" \"))))\n",
    "\n",
    "all_vectors = np.array(all_vectors)"
   ]
  },
  {
   "cell_type": "code",
   "execution_count": 34,
   "metadata": {
    "collapsed": true,
    "deletable": true,
    "editable": true
   },
   "outputs": [],
   "source": [
    "clf_train_df = pd.DataFrame(clf_train, columns=[\"sent2vec_dist\", \"y\"])"
   ]
  },
  {
   "cell_type": "code",
   "execution_count": 35,
   "metadata": {
    "collapsed": false,
    "deletable": true,
    "editable": true
   },
   "outputs": [
    {
     "data": {
      "text/plain": [
       "<matplotlib.axes._subplots.AxesSubplot at 0x7f128a4592b0>"
      ]
     },
     "execution_count": 35,
     "metadata": {},
     "output_type": "execute_result"
    },
    {
     "data": {
      "image/png": "[encoded data removed]",
      "text/plain": [
       "<matplotlib.figure.Figure at 0x7f128957b0b8>"
      ]
     },
     "metadata": {},
     "output_type": "display_data"
    }
   ],
   "source": [
    "clf_train_df[clf_train_df[\"y\"] == 1][\"sent2vec_dist\"].hist(color=\"g\", range=(0.1, 0.7))\n",
    "clf_train_df[clf_train_df[\"y\"] == 0][\"sent2vec_dist\"].hist(color=\"r\", range=(0.1, 0.7))"
   ]
  },
  {
   "cell_type": "code",
   "execution_count": 37,
   "metadata": {
    "collapsed": false,
    "deletable": true,
    "editable": true
   },
   "outputs": [
    {
     "name": "stdout",
     "output_type": "stream",
     "text": [
      "\n",
      "CPU times: user 3.63 s, sys: 219 ms, total: 3.85 s\n",
      "Wall time: 1.23 s\n"
     ]
    }
   ],
   "source": [
    "%%time\n",
    "\n",
    "threshold = 0.2\n",
    "detections = []\n",
    "\n",
    "for line in tqdm_notebook(open(\"tasks/pairs\")):\n",
    "    all_metrics = []\n",
    "    ijs = []\n",
    "    ds = []\n",
    "    susp_file, src_file = line.split()\n",
    "    susp_path = os.path.join(\"susp\", susp_file)\n",
    "    src_path = os.path.join(\"src\", src_file)\n",
    "    susp_lens = np.cumsum([0] + list(map(len, open(susp_path).readlines())))\n",
    "    src_lens = np.cumsum([0] + list(map(len, open(src_path).readlines())))\n",
    "    susp_ids = files_sentences_ids[susp_path]\n",
    "    src_ids = files_sentences_ids[src_path]\n",
    "    susp_vectors = all_vectors[min(susp_ids)[0]:max(susp_ids)[0] + 1]\n",
    "    src_vectors = all_vectors[min(src_ids)[0]:max(src_ids)[0] + 1]\n",
    "    sim = 1 - cosine_similarity(susp_vectors, src_vectors)\n",
    "    for i2, j2 in zip(*np.where(sim < threshold)): # TODO: rework this idea completely !!!\n",
    "        i = susp_ids[i2][1]\n",
    "        j = src_ids[j2][1]\n",
    "        #print(i, j)\n",
    "        #print(sentences[susp_path][i])\n",
    "        #print(sentences[src_path][j])\n",
    "        #print(sim[i2][j2])\n",
    "        ds.append(((src_lens[j], src_lens[j + 1] - 1), (susp_lens[i], susp_lens[i + 1] - 1)))\n",
    "    detections.append(ds)"
   ]
  },
  {
   "cell_type": "code",
   "execution_count": 38,
   "metadata": {
    "collapsed": false,
    "deletable": true,
    "editable": true
   },
   "outputs": [
    {
     "name": "stdout",
     "output_type": "stream",
     "text": [
      "CPU times: user 225 ms, sys: 2 ms, total: 227 ms\n",
      "Wall time: 226 ms\n"
     ]
    }
   ],
   "source": [
    "%time pickle.dump(detections, open(\"detections.dump\", \"wb\"))"
   ]
  },
  {
   "cell_type": "markdown",
   "metadata": {
    "deletable": true,
    "editable": true
   },
   "source": [
    "---"
   ]
  }
 ],
 "metadata": {
  "kernelspec": {
   "display_name": "Python 3",
   "language": "python",
   "name": "python3"
  },
  "language_info": {
   "codemirror_mode": {
    "name": "ipython",
    "version": 3
   },
   "file_extension": ".py",
   "mimetype": "text/x-python",
   "name": "python",
   "nbconvert_exporter": "python",
   "pygments_lexer": "ipython3",
   "version": "3.5.3"
  },
  "latex_envs": {
   "bibliofile": "biblio.bib",
   "cite_by": "apalike",
   "current_citInitial": 1,
   "eqLabelWithNumbers": true,
   "eqNumInitial": 0
  },
  "widgets": {
   "state": {
    "318d3832997a4439a38aa512518d4abf": {
     "views": [
      {
       "cell_index": 6
      }
     ]
    }
   },
   "version": "1.2.0"
  }
 },
 "nbformat": 4,
 "nbformat_minor": 2
}
