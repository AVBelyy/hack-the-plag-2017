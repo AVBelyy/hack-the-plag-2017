{
 "cells": [
  {
   "cell_type": "code",
   "execution_count": 1,
   "metadata": {
    "collapsed": true
   },
   "outputs": [],
   "source": [
    "from unionfind import UnionFind"
   ]
  },
  {
   "cell_type": "code",
   "execution_count": 2,
   "metadata": {},
   "outputs": [
    {
     "data": {
      "text/plain": [
       "<UnionFind:\n",
       "\telts=['a', 'b', 'c', 'd', 'e', 'f', 'g', 'h', 'i', 'j'],\n",
       "\tsiz=[1, 1, 1, 1, 1, 1, 1, 1, 1, 1],\n",
       "\tpar=[0, 1, 2, 3, 4, 5, 6, 7, 8, 9],\n",
       "n_elts=10,n_comps=10>"
      ]
     },
     "execution_count": 2,
     "metadata": {},
     "output_type": "execute_result"
    }
   ],
   "source": [
    "uf = UnionFind(list('abcdefghij'))\n",
    "uf"
   ]
  },
  {
   "cell_type": "code",
   "execution_count": 3,
   "metadata": {},
   "outputs": [
    {
     "data": {
      "text/plain": [
       "<UnionFind:\n",
       "\telts=['a', 'b', 'c', 'd', 'e', 'f', 'g', 'h', 'i', 'j'],\n",
       "\tsiz=[1, 1, 1, 1, 2, 1, 1, 1, 1, 1],\n",
       "\tpar=[0, 1, 2, 4, 4, 5, 6, 7, 8, 9],\n",
       "n_elts=10,n_comps=9>"
      ]
     },
     "execution_count": 3,
     "metadata": {},
     "output_type": "execute_result"
    }
   ],
   "source": [
    "uf.union('e', 'd')\n",
    "uf"
   ]
  },
  {
   "cell_type": "code",
   "execution_count": 4,
   "metadata": {},
   "outputs": [
    {
     "data": {
      "text/plain": [
       "<UnionFind:\n",
       "\telts=['a', 'b', 'c', 'd', 'e', 'f', 'g', 'h', 'i', 'j'],\n",
       "\tsiz=[1, 1, 1, 1, 3, 1, 1, 1, 1, 1],\n",
       "\tpar=[0, 1, 2, 4, 4, 5, 6, 7, 4, 9],\n",
       "n_elts=10,n_comps=8>"
      ]
     },
     "execution_count": 4,
     "metadata": {},
     "output_type": "execute_result"
    }
   ],
   "source": [
    "uf.union('d', 'i')\n",
    "uf"
   ]
  },
  {
   "cell_type": "code",
   "execution_count": 5,
   "metadata": {},
   "outputs": [
    {
     "data": {
      "text/plain": [
       "<UnionFind:\n",
       "\telts=['a', 'b', 'c', 'd', 'e', 'f', 'g', 'h', 'i', 'j'],\n",
       "\tsiz=[1, 1, 1, 1, 3, 1, 2, 1, 1, 1],\n",
       "\tpar=[0, 1, 2, 4, 4, 6, 6, 7, 4, 9],\n",
       "n_elts=10,n_comps=7>"
      ]
     },
     "execution_count": 5,
     "metadata": {},
     "output_type": "execute_result"
    }
   ],
   "source": [
    "uf.union('g', 'f')\n",
    "uf"
   ]
  },
  {
   "cell_type": "code",
   "execution_count": 6,
   "metadata": {},
   "outputs": [
    {
     "data": {
      "text/plain": [
       "<UnionFind:\n",
       "\telts=['a', 'b', 'c', 'd', 'e', 'f', 'g', 'h', 'i', 'j'],\n",
       "\tsiz=[1, 1, 1, 1, 4, 1, 2, 1, 1, 1],\n",
       "\tpar=[0, 1, 2, 4, 4, 6, 6, 7, 4, 4],\n",
       "n_elts=10,n_comps=6>"
      ]
     },
     "execution_count": 6,
     "metadata": {},
     "output_type": "execute_result"
    }
   ],
   "source": [
    "uf.union('j', 'e')\n",
    "uf"
   ]
  },
  {
   "cell_type": "code",
   "execution_count": 7,
   "metadata": {},
   "outputs": [
    {
     "data": {
      "text/plain": [
       "<UnionFind:\n",
       "\telts=['a', 'b', 'c', 'd', 'e', 'f', 'g', 'h', 'i', 'j'],\n",
       "\tsiz=[1, 1, 2, 1, 4, 1, 2, 1, 1, 1],\n",
       "\tpar=[0, 2, 2, 4, 4, 6, 6, 7, 4, 4],\n",
       "n_elts=10,n_comps=5>"
      ]
     },
     "execution_count": 7,
     "metadata": {},
     "output_type": "execute_result"
    }
   ],
   "source": [
    "uf.union('c', 'b')\n",
    "uf"
   ]
  },
  {
   "cell_type": "code",
   "execution_count": 8,
   "metadata": {},
   "outputs": [
    {
     "data": {
      "text/plain": [
       "<UnionFind:\n",
       "\telts=['a', 'b', 'c', 'd', 'e', 'f', 'g', 'h', 'i', 'j'],\n",
       "\tsiz=[1, 1, 2, 1, 4, 1, 2, 1, 1, 1],\n",
       "\tpar=[0, 2, 2, 4, 4, 6, 6, 7, 4, 4],\n",
       "n_elts=10,n_comps=5>"
      ]
     },
     "execution_count": 8,
     "metadata": {},
     "output_type": "execute_result"
    }
   ],
   "source": [
    "uf.union('i', 'j')\n",
    "uf"
   ]
  },
  {
   "cell_type": "code",
   "execution_count": 9,
   "metadata": {},
   "outputs": [
    {
     "data": {
      "text/plain": [
       "<UnionFind:\n",
       "\telts=['a', 'b', 'c', 'd', 'e', 'f', 'g', 'h', 'i', 'j'],\n",
       "\tsiz=[1, 1, 2, 1, 4, 1, 3, 1, 1, 1],\n",
       "\tpar=[6, 2, 2, 4, 4, 6, 6, 7, 4, 4],\n",
       "n_elts=10,n_comps=4>"
      ]
     },
     "execution_count": 9,
     "metadata": {},
     "output_type": "execute_result"
    }
   ],
   "source": [
    "uf.union('f', 'a')\n",
    "uf"
   ]
  },
  {
   "cell_type": "code",
   "execution_count": 10,
   "metadata": {},
   "outputs": [
    {
     "data": {
      "text/plain": [
       "<UnionFind:\n",
       "\telts=['a', 'b', 'c', 'd', 'e', 'f', 'g', 'h', 'i', 'j'],\n",
       "\tsiz=[1, 1, 3, 1, 4, 1, 3, 1, 1, 1],\n",
       "\tpar=[6, 2, 2, 4, 4, 6, 6, 2, 4, 4],\n",
       "n_elts=10,n_comps=3>"
      ]
     },
     "execution_count": 10,
     "metadata": {},
     "output_type": "execute_result"
    }
   ],
   "source": [
    "uf.union('h', 'c')\n",
    "uf"
   ]
  },
  {
   "cell_type": "code",
   "execution_count": 11,
   "metadata": {},
   "outputs": [
    {
     "data": {
      "text/plain": [
       "<UnionFind:\n",
       "\telts=['a', 'b', 'c', 'd', 'e', 'f', 'g', 'h', 'i', 'j'],\n",
       "\tsiz=[1, 1, 3, 1, 4, 1, 6, 1, 1, 1],\n",
       "\tpar=[6, 2, 6, 4, 4, 6, 6, 2, 4, 4],\n",
       "n_elts=10,n_comps=2>"
      ]
     },
     "execution_count": 11,
     "metadata": {},
     "output_type": "execute_result"
    }
   ],
   "source": [
    "uf.union('g', 'b')\n",
    "uf"
   ]
  },
  {
   "cell_type": "code",
   "execution_count": 12,
   "metadata": {},
   "outputs": [
    {
     "data": {
      "text/plain": [
       "<UnionFind:\n",
       "\telts=['a', 'b', 'c', 'd', 'e', 'f', 'g', 'h', 'i', 'j'],\n",
       "\tsiz=[1, 1, 3, 1, 4, 1, 6, 1, 1, 1],\n",
       "\tpar=[6, 6, 6, 4, 4, 6, 6, 2, 4, 4],\n",
       "n_elts=10,n_comps=2>"
      ]
     },
     "execution_count": 12,
     "metadata": {},
     "output_type": "execute_result"
    }
   ],
   "source": [
    "uf.union('a', 'b')\n",
    "uf"
   ]
  },
  {
   "cell_type": "code",
   "execution_count": 13,
   "metadata": {},
   "outputs": [
    {
     "data": {
      "text/plain": [
       "<UnionFind:\n",
       "\telts=['a', 'b', 'c', 'd', 'e', 'f', 'g', 'h', 'i', 'j'],\n",
       "\tsiz=[1, 1, 3, 1, 4, 1, 6, 1, 1, 1],\n",
       "\tpar=[6, 6, 6, 4, 4, 6, 6, 6, 4, 4],\n",
       "n_elts=10,n_comps=2>"
      ]
     },
     "execution_count": 13,
     "metadata": {},
     "output_type": "execute_result"
    }
   ],
   "source": [
    "uf.union('g', 'h')\n",
    "uf"
   ]
  },
  {
   "cell_type": "code",
   "execution_count": 14,
   "metadata": {},
   "outputs": [
    {
     "data": {
      "text/plain": [
       "True"
      ]
     },
     "execution_count": 14,
     "metadata": {},
     "output_type": "execute_result"
    }
   ],
   "source": [
    "uf.connected('a', 'g')"
   ]
  },
  {
   "cell_type": "code",
   "execution_count": 15,
   "metadata": {},
   "outputs": [
    {
     "data": {
      "text/plain": [
       "{'a', 'b', 'c', 'f', 'g', 'h'}"
      ]
     },
     "execution_count": 15,
     "metadata": {},
     "output_type": "execute_result"
    }
   ],
   "source": [
    "uf.component('a')"
   ]
  },
  {
   "cell_type": "code",
   "execution_count": 16,
   "metadata": {},
   "outputs": [
    {
     "data": {
      "text/plain": [
       "[{'d', 'e', 'i', 'j'}, {'a', 'b', 'c', 'f', 'g', 'h'}]"
      ]
     },
     "execution_count": 16,
     "metadata": {},
     "output_type": "execute_result"
    }
   ],
   "source": [
    "uf.components()"
   ]
  },
  {
   "cell_type": "code",
   "execution_count": 17,
   "metadata": {},
   "outputs": [
    {
     "data": {
      "text/plain": [
       "{'a': {'a', 'b', 'c', 'f', 'g', 'h'},\n",
       " 'b': {'a', 'b', 'c', 'f', 'g', 'h'},\n",
       " 'c': {'a', 'b', 'c', 'f', 'g', 'h'},\n",
       " 'd': {'d', 'e', 'i', 'j'},\n",
       " 'e': {'d', 'e', 'i', 'j'},\n",
       " 'f': {'a', 'b', 'c', 'f', 'g', 'h'},\n",
       " 'g': {'a', 'b', 'c', 'f', 'g', 'h'},\n",
       " 'h': {'a', 'b', 'c', 'f', 'g', 'h'},\n",
       " 'i': {'d', 'e', 'i', 'j'},\n",
       " 'j': {'d', 'e', 'i', 'j'}}"
      ]
     },
     "execution_count": 17,
     "metadata": {},
     "output_type": "execute_result"
    }
   ],
   "source": [
    "uf.component_mapping()"
   ]
  },
  {
   "cell_type": "code",
   "execution_count": null,
   "metadata": {
    "collapsed": true
   },
   "outputs": [],
   "source": []
  }
 ],
 "metadata": {
  "anaconda-cloud": {},
  "kernelspec": {
   "display_name": "Python [conda root]",
   "language": "python",
   "name": "conda-root-py"
  },
  "language_info": {
   "codemirror_mode": {
    "name": "ipython",
    "version": 2
   },
   "file_extension": ".py",
   "mimetype": "text/x-python",
   "name": "python",
   "nbconvert_exporter": "python",
   "pygments_lexer": "ipython2",
   "version": "2.7.13"
  }
 },
 "nbformat": 4,
 "nbformat_minor": 2
}
