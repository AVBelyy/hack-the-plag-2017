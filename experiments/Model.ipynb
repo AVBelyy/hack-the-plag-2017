{
 "cells": [
  {
   "cell_type": "code",
   "execution_count": 757,
   "metadata": {
    "collapsed": true,
    "deletable": true,
    "editable": true
   },
   "outputs": [],
   "source": [
    "%matplotlib inline\n",
    "import os\n",
    "import regex\n",
    "import random\n",
    "import itertools\n",
    "import pymystem3\n",
    "import numpy as np\n",
    "import pandas as pd\n",
    "import matplotlib.pyplot as plt"
   ]
  },
  {
   "cell_type": "code",
   "execution_count": 2,
   "metadata": {
    "collapsed": false,
    "deletable": true,
    "editable": true
   },
   "outputs": [
    {
     "name": "stderr",
     "output_type": "stream",
     "text": [
      "Using TensorFlow backend.\n"
     ]
    }
   ],
   "source": [
    "from sklearn.neighbors import BallTree\n",
    "from unionfind.unionfind import UnionFind\n",
    "from gensim.models.keyedvectors import KeyedVectors\n",
    "from sklearn.metrics.pairwise import cosine_similarity"
   ]
  },
  {
   "cell_type": "code",
   "execution_count": 3,
   "metadata": {
    "collapsed": false,
    "deletable": true,
    "editable": true
   },
   "outputs": [
    {
     "name": "stdout",
     "output_type": "stream",
     "text": [
      "CPU times: user 8.19 s, sys: 406 ms, total: 8.6 s\n",
      "Wall time: 8.61 s\n"
     ]
    }
   ],
   "source": [
    "%time embeddings = KeyedVectors.load_word2vec_format(\"ruwikiruscorpora_0_300_20.bin\", binary=True)"
   ]
  },
  {
   "cell_type": "code",
   "execution_count": 935,
   "metadata": {
    "collapsed": true,
    "deletable": true,
    "editable": true
   },
   "outputs": [],
   "source": [
    "stemmer = pymystem3.Mystem()"
   ]
  },
  {
   "cell_type": "code",
   "execution_count": 936,
   "metadata": {
    "collapsed": false,
    "deletable": true,
    "editable": true
   },
   "outputs": [],
   "source": [
    "mystem_to_uni_str = \"\"\"\n",
    "A       ADJ\n",
    "ADV     ADV\n",
    "ADVPRO  ADV\n",
    "ANUM    ADJ\n",
    "APRO    DET\n",
    "COM     ADJ\n",
    "CONJ    SCONJ\n",
    "INTJ    INTJ\n",
    "NONLEX  X\n",
    "NUM     NUM\n",
    "PART    PART\n",
    "PR      ADP\n",
    "S       NOUN\n",
    "SPRO    PRON\n",
    "UNKN    X\n",
    "V       VERB\n",
    "\"\"\"\n",
    "\n",
    "mystem_to_uni_map = dict(map(str.split, mystem_to_uni_str.strip().split(\"\\n\")))"
   ]
  },
  {
   "cell_type": "code",
   "execution_count": 937,
   "metadata": {
    "collapsed": true,
    "deletable": true,
    "editable": true
   },
   "outputs": [],
   "source": [
    "token_regexp = regex.compile(\"(?u)\\\\b\\\\p{L}+\\\\b\")"
   ]
  },
  {
   "cell_type": "code",
   "execution_count": 938,
   "metadata": {
    "collapsed": false,
    "deletable": true,
    "editable": true
   },
   "outputs": [
    {
     "data": {
      "text/plain": [
       "[{'analysis': [{'gr': 'V,нп=прош,ед,изъяв,жен,сов', 'lex': 'умирать'}],\n",
       "  'text': 'умерла'},\n",
       " {'analysis': [{'gr': 'PR=', 'lex': 'от'}], 'text': 'от'},\n",
       " {'analysis': [{'gr': 'S,муж,неод=род,ед', 'lex': 'рак'}], 'text': 'рака'},\n",
       " {'analysis': [{'gr': 'S,гео,муж,неод=(вин,ед|им,ед)',\n",
       "    'lex': 'кек',\n",
       "    'qual': 'bastard'}],\n",
       "  'text': 'кек'},\n",
       " {'text': '228'},\n",
       " {'text': '.'}]"
      ]
     },
     "execution_count": 938,
     "metadata": {},
     "output_type": "execute_result"
    }
   ],
   "source": [
    "stemmer.analyze(\"умерла от рака кек 228 .\")[::2]"
   ]
  },
  {
   "cell_type": "code",
   "execution_count": 939,
   "metadata": {
    "collapsed": true,
    "deletable": true,
    "editable": true
   },
   "outputs": [],
   "source": [
    "def tokenize(text):\n",
    "    return token_regexp.findall(text.lower())\n",
    "\n",
    "add_unparsed = True\n",
    "gr_regexp = regex.compile(\"[^\\w]\")\n",
    "\n",
    "def lemmatize(tokens):\n",
    "    lemmas = []\n",
    "    tokens_str = \" \".join(tokens)\n",
    "    for res in stemmer.analyze(tokens_str)[::2]:\n",
    "        if res.get(\"analysis\"):\n",
    "            info = res[\"analysis\"][0]\n",
    "            stem_pos, *_ = gr_regexp.split(info[\"gr\"].upper())\n",
    "            lemmas.append(\"%s_%s\" % (info[\"lex\"], mystem_to_uni_map.get(stem_pos, \"X\")))\n",
    "        elif add_unparsed:\n",
    "            lemmas.append(res[\"text\"])\n",
    "    return lemmas"
   ]
  },
  {
   "cell_type": "code",
   "execution_count": 283,
   "metadata": {
    "collapsed": false,
    "deletable": true,
    "editable": true
   },
   "outputs": [
    {
     "data": {
      "text/plain": [
       "['у_ADP', 'антон_NOUN', 'очень_ADV', 'красивый_ADJ', 'ноутбук_NOUN']"
      ]
     },
     "execution_count": 283,
     "metadata": {},
     "output_type": "execute_result"
    }
   ],
   "source": [
    "lemmatize(tokenize(\"У Антона очень красивый ноутбук.\\n\\n\"))"
   ]
  },
  {
   "cell_type": "markdown",
   "metadata": {
    "deletable": true,
    "editable": true
   },
   "source": [
    "## Метрики"
   ]
  },
  {
   "cell_type": "code",
   "execution_count": 662,
   "metadata": {
    "collapsed": true
   },
   "outputs": [],
   "source": [
    "from scipy.spatial.distance import cosine"
   ]
  },
  {
   "cell_type": "code",
   "execution_count": 10,
   "metadata": {
    "collapsed": true,
    "deletable": true,
    "editable": true
   },
   "outputs": [],
   "source": [
    "def jaccard_lemmas(susp_lemmas, src_lemmas):\n",
    "    if len(susp_lemmas) and len(src_lemmas):\n",
    "        s1, s2 = set(susp_lemmas), set(src_lemmas)\n",
    "        return 1 - len(s1 & s2) / len(s1 | s2)\n",
    "    else:\n",
    "        return np.inf"
   ]
  },
  {
   "cell_type": "code",
   "execution_count": 908,
   "metadata": {
    "collapsed": true,
    "deletable": true,
    "editable": true
   },
   "outputs": [],
   "source": [
    "def del_lemmas(susp_lemmas, src_lemmas):\n",
    "    if len(susp_lemmas) > 3:\n",
    "        s1, s2 = set(susp_lemmas), set(src_lemmas)\n",
    "        return 1 - len(s1 & s2) / len(s1)\n",
    "    else:\n",
    "        return np.inf"
   ]
  },
  {
   "cell_type": "code",
   "execution_count": 909,
   "metadata": {
    "collapsed": true,
    "deletable": true,
    "editable": true
   },
   "outputs": [],
   "source": [
    "def add_lemmas(susp_lemmas, src_lemmas):\n",
    "    if len(src_lemmas) > 3:\n",
    "        s1, s2 = set(susp_lemmas), set(src_lemmas)\n",
    "        return 1 - len(s1 & s2) / len(s2)\n",
    "    else:\n",
    "        return np.inf"
   ]
  },
  {
   "cell_type": "code",
   "execution_count": 910,
   "metadata": {
    "collapsed": true
   },
   "outputs": [],
   "source": [
    "weights = {\n",
    " 'ADJ': 0.131,\n",
    " 'ADV': 0.016,\n",
    " 'INTJ': 0.001,\n",
    " 'NOUN':  0.793,\n",
    " 'VERB': 0.059\n",
    "}\n",
    "\n",
    "vocab_dict = dict(zip(embeddings.index2word, range(len(embeddings.index2word))))\n",
    "\n",
    "def sum_vectors(susp_lemmas, src_lemmas):\n",
    "    if len(susp_lemmas) and len(src_lemmas):\n",
    "        sel, w = [], []\n",
    "        for lemma in src_lemmas:\n",
    "            if lemma in vocab_dict:\n",
    "                ind = lemma.find(\"_\")\n",
    "                POS = lemma[ind + 1:]\n",
    "                if POS in weights:\n",
    "                    sel.append(vocab_dict[lemma])\n",
    "                    w.append([weights[POS]])\n",
    "        if len(sel) == 0:\n",
    "            return np.inf\n",
    "        a = embeddings.syn0[sel] * np.array(w)\n",
    "        a = np.sum(a, axis=0) / a.shape[0]\n",
    "\n",
    "        \n",
    "        sel, w = [], []\n",
    "        for lemma in susp_lemmas:\n",
    "            if lemma in vocab_dict:\n",
    "                ind = lemma.find(\"_\")\n",
    "                POS = lemma[ind + 1:]\n",
    "                if POS in weights:\n",
    "                    sel.append(vocab_dict[lemma])\n",
    "                    w.append([weights[POS]])\n",
    "        if len(sel) == 0:\n",
    "            return np.inf\n",
    "        b = embeddings.syn0[sel] * np.array(w)\n",
    "        b = np.sum(b, axis=0) / b.shape[0]\n",
    "\n",
    "        return 1 - cosine(a, b)\n",
    "    else:\n",
    "        return np.inf"
   ]
  },
  {
   "cell_type": "code",
   "execution_count": 13,
   "metadata": {
    "collapsed": false,
    "deletable": true,
    "editable": true
   },
   "outputs": [
    {
     "name": "stdout",
     "output_type": "stream",
     "text": [
      "CPU times: user 10.1 s, sys: 406 ms, total: 10.5 s\n",
      "Wall time: 28.6 s\n"
     ]
    }
   ],
   "source": [
    "%%time\n",
    "\n",
    "texts_df = pd.DataFrame.from_csv(\"train_texts.csv\")\n",
    "\n",
    "lemmas_dict = {}\n",
    "\n",
    "for pair_id, pair in texts_df.iterrows():\n",
    "    lemmas_dict[pair_id] = {}\n",
    "    lemmas_dict[pair_id][\"susp\"] = lemmatize(tokenize(pair[\"suspicious_text\"]))\n",
    "    lemmas_dict[pair_id][\"src\"] = lemmatize(tokenize(pair[\"source_text\"]))"
   ]
  },
  {
   "cell_type": "code",
   "execution_count": 44,
   "metadata": {
    "collapsed": true,
    "deletable": true,
    "editable": true
   },
   "outputs": [],
   "source": [
    "top_n_w2v = 50"
   ]
  },
  {
   "cell_type": "code",
   "execution_count": 45,
   "metadata": {
    "collapsed": false,
    "deletable": true,
    "editable": true
   },
   "outputs": [],
   "source": [
    "embeddings_dict = dict(zip(embeddings.index2word, range(len(embeddings.index2word))))"
   ]
  },
  {
   "cell_type": "code",
   "execution_count": 46,
   "metadata": {
    "collapsed": false,
    "deletable": true,
    "editable": true
   },
   "outputs": [
    {
     "name": "stdout",
     "output_type": "stream",
     "text": [
      "CPU times: user 118 ms, sys: 0 ns, total: 118 ms\n",
      "Wall time: 118 ms\n"
     ]
    }
   ],
   "source": [
    "%%time\n",
    "\n",
    "train_dict = set()\n",
    "\n",
    "for row_id, row in lemmas_dict.items():\n",
    "    train_dict.update(row[\"susp\"])\n",
    "    train_dict.update(row[\"src\"])\n",
    "\n",
    "train_dict_idx = []\n",
    "train_dict_inv = {}\n",
    "\n",
    "for w in train_dict:\n",
    "    if w in embeddings_dict:\n",
    "        train_dict_idx.append(embeddings_dict[w])\n",
    "        train_dict_inv[embeddings_dict[w]] = len(train_dict_inv)\n",
    "\n",
    "train_embeddings = embeddings.syn0[train_dict_idx]"
   ]
  },
  {
   "cell_type": "code",
   "execution_count": 47,
   "metadata": {
    "collapsed": false,
    "deletable": true,
    "editable": true
   },
   "outputs": [
    {
     "name": "stdout",
     "output_type": "stream",
     "text": [
      "CPU times: user 2min 12s, sys: 43 ms, total: 2min 12s\n",
      "Wall time: 2min 12s\n"
     ]
    }
   ],
   "source": [
    "%%time\n",
    "\n",
    "tree = BallTree(train_embeddings)\n",
    "nn_indices = tree.query(train_embeddings, k=top_n_w2v, return_distance=False)"
   ]
  },
  {
   "cell_type": "code",
   "execution_count": 48,
   "metadata": {
    "collapsed": true,
    "deletable": true,
    "editable": true
   },
   "outputs": [],
   "source": [
    "def jaccard_vectors(susp_lemmas, src_lemmas):\n",
    "    #print(susp_lemmas, src_lemmas)\n",
    "    s1 = set(filter(embeddings.__contains__, susp_lemmas))\n",
    "    s2 = set(filter(embeddings.__contains__, src_lemmas))\n",
    "    union, intersection = s1 | s2, s1 & s2\n",
    "    union_len, intersection_len = len(union), len(intersection)\n",
    "    difference = set()\n",
    "    for elem in (union - intersection):\n",
    "        if elem in embeddings:\n",
    "            if elem in s1:\n",
    "                difference.add(\"%s~0\" % elem)\n",
    "            else:\n",
    "                difference.add(\"%s~1\" % elem)\n",
    "    #print(s1, s2, difference)\n",
    "    if len(difference):\n",
    "        uf = UnionFind(difference)\n",
    "        for s in difference:\n",
    "            elem, comp_id = s.split(\"~\", 1)\n",
    "            cands_pos = nn_indices[train_dict_inv[embeddings_dict[elem]]][1:]\n",
    "            neighbors_cand = list(map(lambda x: embeddings.index2word[train_dict_idx[x]], cands_pos))\n",
    "            for neighbor in filter(lambda x: \"%s~0\" % x in difference, neighbors_cand):\n",
    "                uf.union(\"%s~%s\" % (elem, comp_id), \"%s~0\" % neighbor)\n",
    "            for neighbor in filter(lambda x: \"%s~1\" % x in difference, neighbors_cand):\n",
    "                uf.union(\"%s~%s\" % (elem, comp_id), \"%s~1\" % neighbor)\n",
    "        union_len -= uf.n_elts - uf.n_comps\n",
    "        dual_components_cnt = 0\n",
    "        for comp in uf.components():\n",
    "            flags = [False, False]\n",
    "            for s in comp:\n",
    "                elem, comp_id = s.split(\"~\", 1)\n",
    "                flags[int(comp_id)] = True\n",
    "            if flags[0] and flags[1]:\n",
    "                dual_components_cnt += 1\n",
    "        intersection_len += dual_components_cnt\n",
    "    if union_len:\n",
    "        return 1 - intersection_len / union_len\n",
    "    else:\n",
    "        return np.inf"
   ]
  },
  {
   "cell_type": "markdown",
   "metadata": {
    "deletable": true,
    "editable": true
   },
   "source": [
    "## Обучающая выборка"
   ]
  },
  {
   "cell_type": "markdown",
   "metadata": {
    "deletable": true,
    "editable": true
   },
   "source": [
    "---"
   ]
  },
  {
   "cell_type": "code",
   "execution_count": 144,
   "metadata": {
    "collapsed": true,
    "deletable": true,
    "editable": true
   },
   "outputs": [],
   "source": [
    "def show_texts(plag_id):\n",
    "    obj = texts_df.loc[plag_id]\n",
    "    print(\"Plagiat type:\", obj[\"obfuscation\"])\n",
    "    print(\"susp/\" + obj[\"suspicious_path\"] + \" : \" + repr(obj[\"suspicious_text\"]))\n",
    "    print(\"src/\"+ obj[\"source_path\"] + \" : \" + repr(obj[\"source_text\"]))"
   ]
  },
  {
   "cell_type": "markdown",
   "metadata": {
    "deletable": true,
    "editable": true
   },
   "source": [
    "**LPR**"
   ]
  },
  {
   "cell_type": "code",
   "execution_count": 100,
   "metadata": {
    "collapsed": false,
    "deletable": true,
    "editable": true
   },
   "outputs": [
    {
     "data": {
      "text/plain": [
       "0.5"
      ]
     },
     "execution_count": 100,
     "metadata": {},
     "output_type": "execute_result"
    }
   ],
   "source": [
    "jaccard_lemmas(lemmas_dict[14][\"susp\"], lemmas_dict[14][\"src\"])"
   ]
  },
  {
   "cell_type": "code",
   "execution_count": 204,
   "metadata": {
    "collapsed": false,
    "deletable": true,
    "editable": true
   },
   "outputs": [
    {
     "data": {
      "text/plain": [
       "0.1428571428571429"
      ]
     },
     "execution_count": 204,
     "metadata": {},
     "output_type": "execute_result"
    }
   ],
   "source": [
    "jaccard_vectors(lemmas_dict[14][\"susp\"], lemmas_dict[14][\"src\"])"
   ]
  },
  {
   "cell_type": "markdown",
   "metadata": {
    "deletable": true,
    "editable": true
   },
   "source": [
    "---"
   ]
  },
  {
   "cell_type": "code",
   "execution_count": 911,
   "metadata": {
    "collapsed": true,
    "deletable": true,
    "editable": true
   },
   "outputs": [],
   "source": [
    "def calc_metrics(pair_id, susp_lemmas, src_lemmas, thresh=0.25, y=None):\n",
    "    metrics = {}\n",
    "    metrics[\"id\"] = pair_id\n",
    "    metrics[\"jaccard_lemmas\"] = jaccard_lemmas(susp_lemmas, src_lemmas)\n",
    "    metrics[\"del_lemmas\"] = del_lemmas(susp_lemmas, src_lemmas)\n",
    "    metrics[\"add_lemmas\"] = add_lemmas(susp_lemmas, src_lemmas)\n",
    "    #metrics[\"jaccard_vectors\"] = jaccard_vectors(susp_lemmas, src_lemmas)\n",
    "    if metrics[\"jaccard_lemmas\"] > thresh and metrics[\"del_lemmas\"] > thresh and metrics[\"add_lemmas\"] > thresh:\n",
    "        if metrics[\"jaccard_lemmas\"] < 0.8:\n",
    "            metrics[\"sum_vectors\"] = sum_vectors(susp_lemmas, src_lemmas)\n",
    "        else:\n",
    "            metrics[\"sum_vectors\"] = np.inf\n",
    "    if y is not None:\n",
    "        metrics[\"y\"] = y\n",
    "    return metrics"
   ]
  },
  {
   "cell_type": "code",
   "execution_count": 912,
   "metadata": {
    "collapsed": false,
    "deletable": true,
    "editable": true
   },
   "outputs": [
    {
     "name": "stdout",
     "output_type": "stream",
     "text": [
      "Processed 1000 pairs\n",
      "Processed 2000 pairs\n",
      "Processed 3000 pairs\n",
      "Processed 4000 pairs\n",
      "Processed 5000 pairs\n",
      "Processed 6000 pairs\n",
      "Processed 7000 pairs\n",
      "Processed 8000 pairs\n",
      "Processed 9000 pairs\n",
      "Processed 10000 pairs\n",
      "CPU times: user 1.11 s, sys: 2 ms, total: 1.11 s\n",
      "Wall time: 1.11 s\n"
     ]
    }
   ],
   "source": [
    "%%time\n",
    "\n",
    "metrics_list = []\n",
    "\n",
    "for pair_id in texts_df.index:\n",
    "    metrics = calc_metrics(pair_id, lemmas_dict[pair_id][\"susp\"], lemmas_dict[pair_id][\"src\"], 0.25, 1)\n",
    "    metrics_list.append(metrics)\n",
    "    if len(metrics_list) % 1000 == 0:\n",
    "        print(\"Processed %d pairs\" % len(metrics_list))"
   ]
  },
  {
   "cell_type": "code",
   "execution_count": 913,
   "metadata": {
    "collapsed": false,
    "deletable": true,
    "editable": true
   },
   "outputs": [],
   "source": [
    "np.random.seed(0)\n",
    "\n",
    "perm = None\n",
    "while True:\n",
    "    perm = np.random.permutation(texts_df.index)\n",
    "    if (perm - np.arange(len(texts_df)) == 0).sum() == 0:\n",
    "        break"
   ]
  },
  {
   "cell_type": "code",
   "execution_count": 914,
   "metadata": {
    "collapsed": false,
    "deletable": true,
    "editable": true
   },
   "outputs": [
    {
     "name": "stdout",
     "output_type": "stream",
     "text": [
      "Processed 11000 pairs\n",
      "Processed 12000 pairs\n",
      "Processed 13000 pairs\n",
      "Processed 14000 pairs\n",
      "Processed 15000 pairs\n",
      "Processed 16000 pairs\n",
      "Processed 17000 pairs\n",
      "Processed 18000 pairs\n",
      "Processed 19000 pairs\n",
      "Processed 20000 pairs\n",
      "Processed 21000 pairs\n",
      "CPU times: user 308 ms, sys: 4 ms, total: 312 ms\n",
      "Wall time: 309 ms\n"
     ]
    }
   ],
   "source": [
    "%%time\n",
    "\n",
    "for neg_pair_id, (pair_id1, pair_id2) in enumerate(zip(texts_df.index, perm), len(texts_df)):\n",
    "    metrics = calc_metrics(neg_pair_id, lemmas_dict[pair_id1][\"susp\"], lemmas_dict[pair_id2][\"src\"], 0.25, 0)\n",
    "    metrics_list.append(metrics)\n",
    "    if len(metrics_list) % 1000 == 0:\n",
    "        print(\"Processed %d pairs\" % len(metrics_list))"
   ]
  },
  {
   "cell_type": "markdown",
   "metadata": {
    "deletable": true,
    "editable": true
   },
   "source": [
    "%%time\n",
    "\n",
    "random.seed(1)\n",
    "neg_list = []\n",
    "\n",
    "src_files = list(texts_df[\"source_path\"].unique())\n",
    "susp_files = list(texts_df[\"suspicious_path\"].unique())\n",
    "\n",
    "neg_size = len(texts_df)\n",
    "\n",
    "for _ in range(neg_size):\n",
    "    src_file = os.path.join(\"src\", random.choice(src_files))\n",
    "    susp_file = os.path.join(\"susp\", random.choice(susp_files))\n",
    "    src_lines = open(src_file).readlines()\n",
    "    susp_lines = open(susp_file).readlines()\n",
    "    src_text, susp_text = None, None\n",
    "    while True:\n",
    "        i = random.randint(0, len(src_lines) - 1)\n",
    "        src_text = src_lines[i].strip()\n",
    "        if len(src_text) > 0:\n",
    "            break\n",
    "    while True:\n",
    "        j = random.randint(0, len(susp_lines) - 1)\n",
    "        susp_text = susp_lines[j].strip()\n",
    "        if len(susp_text) > 0:\n",
    "            break\n",
    "    neg_list.append((susp_text, src_text))"
   ]
  },
  {
   "cell_type": "markdown",
   "metadata": {
    "deletable": true,
    "editable": true
   },
   "source": [
    "%%time\n",
    "\n",
    "neg_metrics_list = []\n",
    "\n",
    "for pair_id, pair in neg_lemmas_dict.items():\n",
    "    susp_lemmas = pair[\"susp\"]\n",
    "    src_lemmas = pair[\"src\"]\n",
    "    metrics = {}\n",
    "    metrics[\"id\"] = pair_id\n",
    "    metrics[\"jaccard_lemmas\"] = jaccard_lemmas(susp_lemmas, src_lemmas)\n",
    "    metrics[\"del_lemmas\"] = del_lemmas(susp_lemmas, src_lemmas)\n",
    "    metrics[\"add_lemmas\"] = add_lemmas(susp_lemmas, src_lemmas)\n",
    "    metrics[\"jaccard_vectors\"] = jaccard_vectors(susp_lemmas, src_lemmas)\n",
    "    neg_metrics_list.append(metrics)\n",
    "    if len(neg_metrics_list) % 1000 == 0:\n",
    "        print(\"Processed %d pairs\" % len(neg_metrics_list))"
   ]
  },
  {
   "cell_type": "code",
   "execution_count": 915,
   "metadata": {
    "collapsed": false,
    "deletable": true,
    "editable": true
   },
   "outputs": [],
   "source": [
    "metrics_df = pd.DataFrame(metrics_list).set_index(\"id\")"
   ]
  },
  {
   "cell_type": "markdown",
   "metadata": {
    "deletable": true,
    "editable": true
   },
   "source": [
    "## Классификатор"
   ]
  },
  {
   "cell_type": "code",
   "execution_count": 916,
   "metadata": {
    "collapsed": true,
    "deletable": true,
    "editable": true
   },
   "outputs": [],
   "source": [
    "import pickle"
   ]
  },
  {
   "cell_type": "code",
   "execution_count": 917,
   "metadata": {
    "collapsed": true,
    "deletable": true,
    "editable": true
   },
   "outputs": [],
   "source": [
    "from sklearn.model_selection import train_test_split, cross_val_score"
   ]
  },
  {
   "cell_type": "code",
   "execution_count": 918,
   "metadata": {
    "collapsed": true,
    "deletable": true,
    "editable": true
   },
   "outputs": [],
   "source": [
    "from sklearn.ensemble import RandomForestClassifier, GradientBoostingClassifier\n",
    "from sklearn.linear_model import LogisticRegression\n",
    "from sklearn.svm import SVC"
   ]
  },
  {
   "cell_type": "code",
   "execution_count": 919,
   "metadata": {
    "collapsed": false,
    "deletable": true,
    "editable": true
   },
   "outputs": [],
   "source": [
    "from sklearn.metrics import precision_score, recall_score, f1_score, confusion_matrix"
   ]
  },
  {
   "cell_type": "code",
   "execution_count": 920,
   "metadata": {
    "collapsed": false,
    "deletable": true,
    "editable": true
   },
   "outputs": [],
   "source": [
    "X, y = metrics_df.drop(\"y\", axis=1), metrics_df[\"y\"]"
   ]
  },
  {
   "cell_type": "code",
   "execution_count": 921,
   "metadata": {
    "collapsed": true,
    "deletable": true,
    "editable": true
   },
   "outputs": [],
   "source": [
    "X[X == np.inf] = 1000\n",
    "X = X.fillna(1000)\n",
    "X[X >= 0.25] = 0.25"
   ]
  },
  {
   "cell_type": "code",
   "execution_count": 922,
   "metadata": {
    "collapsed": false,
    "deletable": true,
    "editable": true
   },
   "outputs": [],
   "source": [
    "X_train, X_test, y_train, y_test = train_test_split(X, y, random_state=42, test_size=0.1)"
   ]
  },
  {
   "cell_type": "code",
   "execution_count": 923,
   "metadata": {
    "collapsed": true,
    "deletable": true,
    "editable": true
   },
   "outputs": [],
   "source": [
    "#clf = RandomForestClassifier(n_estimators=100)\n",
    "clf = GradientBoostingClassifier()\n",
    "#clf = LogisticRegression()"
   ]
  },
  {
   "cell_type": "code",
   "execution_count": 924,
   "metadata": {
    "collapsed": false,
    "deletable": true,
    "editable": true
   },
   "outputs": [
    {
     "name": "stdout",
     "output_type": "stream",
     "text": [
      "CPU times: user 1.93 s, sys: 0 ns, total: 1.93 s\n",
      "Wall time: 1.93 s\n"
     ]
    },
    {
     "data": {
      "text/plain": [
       "0.83600741380569654"
      ]
     },
     "execution_count": 924,
     "metadata": {},
     "output_type": "execute_result"
    }
   ],
   "source": [
    "%time cross_val_score(clf, X_train, y_train, scoring=\"f1\", cv=5).mean()"
   ]
  },
  {
   "cell_type": "code",
   "execution_count": 925,
   "metadata": {
    "collapsed": false,
    "deletable": true,
    "editable": true
   },
   "outputs": [
    {
     "name": "stdout",
     "output_type": "stream",
     "text": [
      "1.0\n",
      "0.724358974359\n",
      "0.840148698885\n",
      "[[1085    0]\n",
      " [ 301  791]]\n"
     ]
    }
   ],
   "source": [
    "#clf = RandomForestClassifier(n_estimators=100)\n",
    "clf = GradientBoostingClassifier(random_state=0)\n",
    "#clf = LogisticRegression()\n",
    "clf.fit(X, y)\n",
    "print(precision_score(y_test, clf.predict(X_test)))\n",
    "print(recall_score(y_test, clf.predict(X_test)))\n",
    "print(f1_score(y_test, clf.predict(X_test)))\n",
    "print(confusion_matrix(y_test, clf.predict(X_test)))"
   ]
  },
  {
   "cell_type": "code",
   "execution_count": 926,
   "metadata": {
    "collapsed": false,
    "deletable": true,
    "editable": true
   },
   "outputs": [
    {
     "data": {
      "text/plain": [
       "array([ 0.392862  ,  0.21121343,  0.08949018,  0.30643438])"
      ]
     },
     "execution_count": 926,
     "metadata": {},
     "output_type": "execute_result"
    }
   ],
   "source": [
    "clf.feature_importances_"
   ]
  },
  {
   "cell_type": "code",
   "execution_count": 927,
   "metadata": {
    "collapsed": true,
    "deletable": true,
    "editable": true
   },
   "outputs": [],
   "source": [
    "pickle.dump(clf, open(\"classifier.dump\", \"wb\"))"
   ]
  },
  {
   "cell_type": "markdown",
   "metadata": {},
   "source": [
    "## All in all"
   ]
  },
  {
   "cell_type": "code",
   "execution_count": 948,
   "metadata": {
    "collapsed": false
   },
   "outputs": [
    {
     "name": "stdout",
     "output_type": "stream",
     "text": [
      "Processed 50 tasks\n",
      "Processed 100 tasks\n",
      "Processed 150 tasks\n",
      "Processed 200 tasks\n",
      "Processed 250 tasks\n",
      "Processed 300 tasks\n",
      "Processed 350 tasks\n",
      "Processed 400 tasks\n",
      "Processed 450 tasks\n",
      "CPU times: user 33.9 s, sys: 1.88 s, total: 35.8 s\n",
      "Wall time: 1min 50s\n"
     ]
    }
   ],
   "source": [
    "%%time\n",
    "\n",
    "all_lines_cnt = 0\n",
    "\n",
    "all_lemmas = {}\n",
    "all_words = set()\n",
    "\n",
    "for i, line in enumerate(open(\"plag_test_data/tasks/pairs\"), 1):\n",
    "    susp_file, src_file = line.split()\n",
    "    susp_path = os.path.join(\"plag_test_data/susp\", susp_file)\n",
    "    src_path = os.path.join(\"plag_test_data/src\", src_file)\n",
    "    susp_lines = open(susp_path).readlines()\n",
    "    src_lines = open(src_path).readlines()\n",
    "    all_lines_cnt += len(susp_lines) * len(src_lines)\n",
    "    # Lemmatize everything\n",
    "    if susp_path not in all_lemmas:\n",
    "        all_lemmas[susp_path] = []\n",
    "        wrap_flag = False\n",
    "        for line in susp_lines:\n",
    "            line = line.lower().strip()\n",
    "            lemmas = lemmatize(tokenize(line))\n",
    "            all_lemmas[susp_path].append(lemmas)\n",
    "    if src_path not in all_lemmas:\n",
    "        all_lemmas[src_path] = []\n",
    "        for line in src_lines:\n",
    "            line = line.lower().strip()\n",
    "            lemmas = lemmatize(tokenize(line))\n",
    "            all_lemmas[src_path].append(lemmas)\n",
    "    if i % 50 == 0:\n",
    "        print(\"Processed %d tasks\" % i)"
   ]
  },
  {
   "cell_type": "code",
   "execution_count": 953,
   "metadata": {
    "collapsed": false
   },
   "outputs": [
    {
     "ename": "KeyError",
     "evalue": "'susp/2002.txt'",
     "output_type": "error",
     "traceback": [
      "\u001b[1;31m---------------------------------------------------------------------------\u001b[0m",
      "\u001b[1;31mKeyError\u001b[0m                                  Traceback (most recent call last)",
      "\u001b[1;32m<ipython-input-953-2583090d29c9>\u001b[0m in \u001b[0;36m<module>\u001b[1;34m()\u001b[0m\n\u001b[1;32m----> 1\u001b[1;33m \u001b[0mall_lemmas\u001b[0m\u001b[1;33m[\u001b[0m\u001b[1;34m\"susp/2002.txt\"\u001b[0m\u001b[1;33m]\u001b[0m\u001b[1;33m\u001b[0m\u001b[0m\n\u001b[0m",
      "\u001b[1;31mKeyError\u001b[0m: 'susp/2002.txt'"
     ]
    }
   ],
   "source": [
    "all_lemmas[\"susp/2002.txt\"]"
   ]
  },
  {
   "cell_type": "code",
   "execution_count": 949,
   "metadata": {
    "collapsed": false
   },
   "outputs": [
    {
     "name": "stdout",
     "output_type": "stream",
     "text": [
      "Processed 50 tasks\n",
      "Processed 100 tasks\n",
      "Processed 150 tasks\n",
      "Processed 200 tasks\n",
      "Processed 250 tasks\n",
      "Processed 300 tasks\n",
      "Processed 350 tasks\n",
      "Processed 400 tasks\n",
      "Processed 450 tasks\n",
      "CPU times: user 5min 51s, sys: 913 ms, total: 5min 52s\n",
      "Wall time: 5min 55s\n"
     ]
    }
   ],
   "source": [
    "%%time\n",
    "\n",
    "threshold = 0.25\n",
    "detections = []\n",
    "\n",
    "for t, line in enumerate(open(\"plag_test_data/tasks/pairs\"), 1):\n",
    "    all_metrics = []\n",
    "    ijs = []\n",
    "    ds = []\n",
    "    susp_file, src_file = line.split()\n",
    "    susp_path = os.path.join(\"plag_test_data/susp\", susp_file)\n",
    "    src_path = os.path.join(\"plag_test_data/src\", src_file)\n",
    "    susp_lens = np.cumsum([0] + list(map(len, open(susp_path).readlines())))\n",
    "    src_lens = np.cumsum([0] + list(map(len, open(src_path).readlines())))\n",
    "    for i, susp_lemmas in enumerate(all_lemmas[susp_path]):\n",
    "        for j, src_lemmas in enumerate(all_lemmas[src_path]):\n",
    "            if len(susp_lemmas) > 3 and len(src_lemmas) > 3:\n",
    "                m = calc_metrics(0, susp_lemmas, src_lemmas, threshold)\n",
    "                all_metrics.append(m)\n",
    "                ijs.append((i, j))\n",
    "            #if m[\"add_lemmas\"] <= threshold or m[\"del_lemmas\"] <= threshold or \\\n",
    "            #   m[\"jaccard_lemmas\"] <= threshold or m.get(\"sum_vectors\", np.inf) <= threshold:\n",
    "            #        ds.append(((src_lens[j], src_lens[j + 1]), (susp_lens[i], susp_lens[i + 1])))\n",
    "    #detections.append(ds)\n",
    "    all_metrics_df = pd.DataFrame(all_metrics).drop(\"id\", axis=1)\n",
    "    all_metrics_df = all_metrics_df.fillna(1000)\n",
    "    all_metrics_df[all_metrics_df >= 0.25] = 0.25\n",
    "    for pred, (i, j) in zip(clf.predict(all_metrics_df), ijs):\n",
    "        if pred == 1:\n",
    "            ds.append(((src_lens[j], src_lens[j + 1] - 1), (susp_lens[i], susp_lens[i + 1] - 1)))\n",
    "    detections.append(ds)\n",
    "    #if t == 1:\n",
    "    #    break\n",
    "    if t % 50 == 0:\n",
    "        print(\"Processed %d tasks\" % t)"
   ]
  },
  {
   "cell_type": "code",
   "execution_count": 898,
   "metadata": {
    "collapsed": true
   },
   "outputs": [],
   "source": [
    "files = list(map(lambda s: s.strip().split(), open(\"tasks/pairs\").readlines()))"
   ]
  },
  {
   "cell_type": "code",
   "execution_count": 904,
   "metadata": {
    "collapsed": false
   },
   "outputs": [],
   "source": [
    "susp_file, src_file = files[228]\n",
    "susp_text = open(\"susp/\" + susp_file).read()\n",
    "src_text = open(\"src/\" + src_file).read()"
   ]
  },
  {
   "cell_type": "code",
   "execution_count": 906,
   "metadata": {
    "collapsed": false
   },
   "outputs": [
    {
     "data": {
      "text/plain": [
       "('Многие города хранят до сегодняшних дней неизведанные тайны.',\n",
       " '\\xa0Многие города хранят до сегодняшних дней неизведанные тайны не является исключением и Вавилон.')"
      ]
     },
     "execution_count": 906,
     "metadata": {},
     "output_type": "execute_result"
    }
   ],
   "source": [
    "src_text[430:490], susp_text[5132:5227]"
   ]
  },
  {
   "cell_type": "code",
   "execution_count": 905,
   "metadata": {
    "collapsed": false
   },
   "outputs": [
    {
     "data": {
      "text/plain": [
       "[((7786, 7826), (4476, 4511)),\n",
       " ((430, 490), (5132, 5227)),\n",
       " ((491, 533), (5132, 5227)),\n",
       " ((627, 677), (5484, 5519)),\n",
       " ((737, 862), (5520, 5619)),\n",
       " ((914, 1027), (6628, 6713)),\n",
       " ((1028, 1077), (6714, 6782)),\n",
       " ((1339, 1396), (7083, 7137)),\n",
       " ((1462, 1557), (7395, 7454)),\n",
       " ((1558, 1670), (7455, 7566)),\n",
       " ((2794, 2892), (8395, 8508)),\n",
       " ((3039, 3103), (8509, 8679)),\n",
       " ((3209, 3278), (8795, 8891)),\n",
       " ((3279, 3380), (8892, 9119)),\n",
       " ((3381, 3488), (8892, 9119)),\n",
       " ((3802, 3899), (9213, 9420)),\n",
       " ((3900, 4008), (9213, 9420)),\n",
       " ((4009, 4047), (9213, 9420)),\n",
       " ((4009, 4047), (9421, 9577)),\n",
       " ((4132, 4183), (9421, 9577)),\n",
       " ((4189, 4291), (9578, 9680)),\n",
       " ((4292, 4360), (9681, 9773)),\n",
       " ((4361, 4442), (9774, 9856)),\n",
       " ((4731, 4809), (10572, 10668)),\n",
       " ((4810, 4892), (10867, 10932)),\n",
       " ((5235, 5342), (11549, 11634)),\n",
       " ((5343, 5439), (11635, 11711)),\n",
       " ((5440, 5545), (11712, 11940)),\n",
       " ((5546, 5658), (11712, 11940)),\n",
       " ((5909, 6020), (13359, 13421)),\n",
       " ((5909, 6020), (13422, 13476)),\n",
       " ((6546, 6627), (13899, 13981)),\n",
       " ((6628, 6655), (13982, 14159)),\n",
       " ((6656, 6751), (13982, 14159)),\n",
       " ((6752, 6875), (14160, 14238)),\n",
       " ((7574, 7608), (15201, 15290)),\n",
       " ((7609, 7679), (15201, 15290)),\n",
       " ((7680, 7739), (15445, 15559)),\n",
       " ((7740, 7785), (15445, 15559)),\n",
       " ((7876, 7973), (15560, 15682)),\n",
       " ((8063, 8168), (15782, 15938))]"
      ]
     },
     "execution_count": 905,
     "metadata": {},
     "output_type": "execute_result"
    }
   ],
   "source": [
    "detections[228]"
   ]
  },
  {
   "cell_type": "code",
   "execution_count": 950,
   "metadata": {
    "collapsed": true
   },
   "outputs": [],
   "source": [
    "pickle.dump(detections, open(\"test_detections.dump\", \"wb\"))"
   ]
  },
  {
   "cell_type": "markdown",
   "metadata": {
    "deletable": true,
    "editable": true
   },
   "source": [
    "## Оценка метрик"
   ]
  },
  {
   "cell_type": "code",
   "execution_count": 222,
   "metadata": {
    "collapsed": false
   },
   "outputs": [
    {
     "data": {
      "text/plain": [
       "(array([ 1008.,   300.,   111.,    59.,    18.,    16.,     6.,     4.,\n",
       "            9.,     3.]),\n",
       " array([ 0. ,  0.1,  0.2,  0.3,  0.4,  0.5,  0.6,  0.7,  0.8,  0.9,  1. ]),\n",
       " <a list of 10 Patch objects>)"
      ]
     },
     "execution_count": 222,
     "metadata": {},
     "output_type": "execute_result"
    },
    {
     "data": {
      "image/png": "[encoded data removed]",
      "text/plain": [
       "<matplotlib.figure.Figure at 0x7fdff8c03f98>"
      ]
     },
     "metadata": {},
     "output_type": "display_data"
    }
   ],
   "source": [
    "plt.hist(metrics_df.loc[texts_df[texts_df[\"obfuscation\"] == \"LPR\"].index][\"sum_vectors\"], range=(0, 1))"
   ]
  },
  {
   "cell_type": "code",
   "execution_count": 237,
   "metadata": {
    "collapsed": false
   },
   "outputs": [
    {
     "data": {
      "text/plain": [
       "(array([ 332.,  349.,  241.,  141.,   63.,   37.,   25.,   14.,   16.,    6.]),\n",
       " array([ 0. ,  0.1,  0.2,  0.3,  0.4,  0.5,  0.6,  0.7,  0.8,  0.9,  1. ]),\n",
       " <a list of 10 Patch objects>)"
      ]
     },
     "execution_count": 237,
     "metadata": {},
     "output_type": "execute_result"
    },
    {
     "data": {
      "image/png": "[encoded data removed]",
      "text/plain": [
       "<matplotlib.figure.Figure at 0x7fdff8abdeb8>"
      ]
     },
     "metadata": {},
     "output_type": "display_data"
    }
   ],
   "source": [
    "plt.hist(metrics_df.loc[texts_df[texts_df[\"obfuscation\"] == \"HPR\"].index][\"sum_vectors\"], range=(0, 1))"
   ]
  },
  {
   "cell_type": "code",
   "execution_count": 247,
   "metadata": {
    "collapsed": false,
    "deletable": true,
    "editable": true
   },
   "outputs": [
    {
     "data": {
      "text/plain": [
       "(array([ 361.,  400.,  284.,  210.,  115.,  109.,   31.,   14.,   23.,   16.]),\n",
       " array([ 0. ,  0.1,  0.2,  0.3,  0.4,  0.5,  0.6,  0.7,  0.8,  0.9,  1. ]),\n",
       " <a list of 10 Patch objects>)"
      ]
     },
     "execution_count": 247,
     "metadata": {},
     "output_type": "execute_result"
    },
    {
     "data": {
      "image/png": "[encoded data removed]",
      "text/plain": [
       "<matplotlib.figure.Figure at 0x7fdff898d240>"
      ]
     },
     "metadata": {},
     "output_type": "display_data"
    }
   ],
   "source": [
    "plt.hist(metrics_df.loc[texts_df[texts_df[\"obfuscation\"] == \"LPR\"].index][\"jaccard_vectors\"], range=(0, 1))"
   ]
  },
  {
   "cell_type": "code",
   "execution_count": 283,
   "metadata": {
    "collapsed": false,
    "deletable": true,
    "editable": true
   },
   "outputs": [
    {
     "name": "stdout",
     "output_type": "stream",
     "text": [
      "Pairs covered by key metrics: 60.6%\n"
     ]
    },
    {
     "data": {
      "image/png": "[encoded data removed]",
      "text/plain": [
       "<matplotlib.figure.Figure at 0x7fd25f3446d8>"
      ]
     },
     "metadata": {},
     "output_type": "display_data"
    },
    {
     "data": {
      "image/png": "[encoded data removed]",
      "text/plain": [
       "<matplotlib.figure.Figure at 0x7fd2600b3550>"
      ]
     },
     "metadata": {},
     "output_type": "display_data"
    },
    {
     "data": {
      "image/png": "[encoded data removed]",
      "text/plain": [
       "<matplotlib.figure.Figure at 0x7fd25f37cf60>"
      ]
     },
     "metadata": {},
     "output_type": "display_data"
    },
    {
     "data": {
      "image/png": "[encoded data removed]",
      "text/plain": [
       "<matplotlib.figure.Figure at 0x7fd2602070b8>"
      ]
     },
     "metadata": {},
     "output_type": "display_data"
    },
    {
     "data": {
      "image/png": "[encoded data removed]",
      "text/plain": [
       "<matplotlib.figure.Figure at 0x7fd25f97c898>"
      ]
     },
     "metadata": {},
     "output_type": "display_data"
    }
   ],
   "source": [
    "key_metrics = ((\"CPY\", \"jaccard_lemmas\"),\n",
    "               (\"CCT\", \"add_lemmas\"),\n",
    "               (\"SSP\", \"del_lemmas\"),\n",
    "               (\"DEL\", \"del_lemmas\"),\n",
    "               (\"ADD\", \"add_lemmas\"))\n",
    "\n",
    "obfuscations_covered = list(map(lambda p: p[0], key_metrics))\n",
    "texts_covered_cnt = texts_df[\"obfuscation\"].apply(lambda s: s in obfuscations_covered).sum()\n",
    "print(\"Pairs covered by key metrics: %.1f%%\" % (100 * (texts_covered_cnt / len(texts_df))))\n",
    "\n",
    "for obfuscation_type, metric_name in key_metrics:\n",
    "    plt.hist(metrics_df.loc[texts_df[texts_df[\"obfuscation\"] == obfuscation_type].index][metric_name], range=(0, 1))\n",
    "    plt.title(\"%s is detected by `%s`\" % (obfuscation_type, metric_name))\n",
    "    plt.show()"
   ]
  },
  {
   "cell_type": "code",
   "execution_count": 220,
   "metadata": {
    "collapsed": false,
    "deletable": true,
    "editable": true
   },
   "outputs": [
    {
     "data": {
      "image/png": "[encoded data removed]",
      "text/plain": [
       "<matplotlib.figure.Figure at 0x7fdff8f09ac8>"
      ]
     },
     "metadata": {},
     "output_type": "display_data"
    },
    {
     "data": {
      "image/png": "[encoded data removed]",
      "text/plain": [
       "<matplotlib.figure.Figure at 0x7fdff8e4b898>"
      ]
     },
     "metadata": {},
     "output_type": "display_data"
    },
    {
     "data": {
      "image/png": "[encoded data removed]",
      "text/plain": [
       "<matplotlib.figure.Figure at 0x7fdffaa2fa20>"
      ]
     },
     "metadata": {},
     "output_type": "display_data"
    },
    {
     "data": {
      "image/png": "[encoded data removed]",
      "text/plain": [
       "<matplotlib.figure.Figure at 0x7fdff8cde2b0>"
      ]
     },
     "metadata": {},
     "output_type": "display_data"
    },
    {
     "data": {
      "image/png": "[encoded data removed]",
      "text/plain": [
       "<matplotlib.figure.Figure at 0x7fdff8c6c780>"
      ]
     },
     "metadata": {},
     "output_type": "display_data"
    }
   ],
   "source": [
    "metrics_names = (\"add_lemmas\", \"del_lemmas\", \"jaccard_lemmas\", \"jaccard_vectors\", \"sum_vectors\")\n",
    "\n",
    "for metric_name in metrics_names:\n",
    "    plt.hist(metrics_df[metric_name].values, range=(0, 1))\n",
    "    plt.title(\"`%s` overall distribution\" % metric_name)\n",
    "    plt.show()"
   ]
  },
  {
   "cell_type": "markdown",
   "metadata": {
    "deletable": true,
    "editable": true
   },
   "source": [
    "---"
   ]
  }
 ],
 "metadata": {
  "kernelspec": {
   "display_name": "Python 3",
   "language": "python",
   "name": "python3"
  },
  "language_info": {
   "codemirror_mode": {
    "name": "ipython",
    "version": 3
   },
   "file_extension": ".py",
   "mimetype": "text/x-python",
   "name": "python",
   "nbconvert_exporter": "python",
   "pygments_lexer": "ipython3",
   "version": "3.5.3"
  },
  "latex_envs": {
   "bibliofile": "biblio.bib",
   "cite_by": "apalike",
   "current_citInitial": 1,
   "eqLabelWithNumbers": true,
   "eqNumInitial": 0
  }
 },
 "nbformat": 4,
 "nbformat_minor": 2
}
